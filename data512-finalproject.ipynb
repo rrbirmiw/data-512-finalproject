{
 "cells": [
  {
   "cell_type": "markdown",
   "metadata": {},
   "source": [
    "\n",
    "# \"Buying the United Nations?\" ## Researching the Implications of US Foreign Aid Dispersment on U.N. Voting Behavior\n",
    "### Rahul R Birmiwal \n",
    "### DATA 512 Final Project. University of Washington\n",
    "### 12/9/2018"
   ]
  },
  {
   "cell_type": "markdown",
   "metadata": {},
   "source": [
    "## Package Dependencies\n",
    "\n",
    "Please ensure all packages are installed on machine of use before importing below. \n",
    "\n",
    "*In addition, please ensure scipy is installed*"
   ]
  },
  {
   "cell_type": "code",
   "execution_count": 238,
   "metadata": {},
   "outputs": [],
   "source": [
    "import numpy as np \n",
    "import pandas as pd\n",
    "from matplotlib import pyplot as plt\n",
    "import seaborn as sns "
   ]
  },
  {
   "cell_type": "markdown",
   "metadata": {},
   "source": [
    "## Background\n",
    "\n",
    "The linkage between United States foreign aid and United Nations voting alignment has been a longstanding issue. Most recently, the issue has reignited with the Trump Administration in 2018 pledging to severely cut -- punish -- recipient nations of US foreign aid if said countries do not back US-preferred resolutions at the United Nations:\n",
    "\n",
    "- \"All of these nations that take our money and then they vote against us at the Security Council or they vote against us…at the Assembly…. Well, we’re watching those votes. Let them vote against us; we’ll save a lot.” (President Donald J. Trump. Dec 20, 2017). (https://www.cgdev.org/publication/linking-us-foreign-aid-un-votes-what-are-implications)\n",
    "- \"President Trump and I are pushing to draw a closer connection between US foreign aid and how countries vote at the UN.” – US Ambassador to the UN Nikki Haley. 3/5/2018). https://www.cgdev.org/publication/linking-us-foreign-aid-un-votes-what-are-implications\n",
    "\n",
    "Yet this quid-pro-quo issue has existed even prior to the current administration's hawkish foreign policy. In particular, with US Cold War policies in the mid 20th century of containment and setting up pro-US puppet governments (think Marshall Plan but more), this issue was crucial. For example, a research report published in the Heritage Foundation: Thirty Years of Voting in the U.N. General Assembly: The U.S. Is Nearly Always in the Minority detail how US Congress has asked for decades concerning the potential disparity between aid and voting alignment -- that surprisingly nations with largest US aid have orthogonal voting alignment to US preferences. This publication comes to the conclusion that: \"Indeed, over the past 10 UNGA sessions, on average, 81.9 percent of all development assistance recipients (177 countries in all) voted against the U.S. in a majority of the overall non-consensus votes, and 68.9 percent voted against the U.S. in a majority of the important non-consensus votes.\" https://www.heritage.org/global-politics/report/thirty-years-voting-the-un-general-assembly-the-us-nearly-always-the. \n",
    "\n",
    "The question, therefore, is what is the true relationship between US foreign aid policy and voting alignment, if a clear pattern even exists. \n",
    "\n",
    "In particular, we seek the question of correlation and *causality*. Does increased foreign aid *produce*, currently, or in near-term future years increased pro-US alignment. \n",
    "\n",
    "## Why Is This Important? \n",
    "\n",
    "If *normalized* against all other socio-geo-political-etc external factors, that the US could potentially leverage its powers and offer foreign aid -- yes it does help other nations, but also if it does \"buy votes\"  in the United Nations -- does it mean the U.N. can be bought? ala Citizens United? Does the United States exercising its world authority likewise stifle the democratic nature of this important institution? \n",
    "\n",
    "## Research Question \n",
    "\n",
    "**Does increased US foreign aid to a country result in their greater voting \"alignment\" with pro-US policies/resolutions in the United Nations General Assmebly?**"
   ]
  },
  {
   "cell_type": "markdown",
   "metadata": {},
   "source": [
    "## What is *Alignment*\n",
    "\n",
    "A key consideration we need to make is what exactly pro-US \"alignment\" means. A simple intuition would be that a country aligns with the United States for a particular vote/resolution ID, when said country's vote matches that of the U.S. However, this definition is somewhat myopic; in particular there are two nuances we need to examine: \n",
    "\n",
    "Before doing so, please read this wonderful and insightful article regarding the political tug-of-war associated with foreign aid allotments. https://www.cgdev.org/publication/linking-us-foreign-aid-un-votes-what-are-implications. \n",
    "In particular, please turn attention to two key passages, shown below. These serve as context for the discussion regarding non-important votes and the \"abstain\" vote thereafter: \n",
    "\n",
    "- \"Focusing on important votes: The United States doesn’t have high stakes in many of the issues put to a vote in UNGA, and pressuring countries is costly, in terms of both resources and political capital. The United States is far more likely to invest in securing alignment—as well as care about nonalignment—for votes that are important to US interests.[9] This is typically a small subset of total votes. The 2016 State Department report flags just 14 of 99 UNGA votes as important.\"\n",
    "\n",
    "- \"As the State Department acknowledges, abstentions (and absences) can be difficult to interpret, but they can make a meaningful difference in gauging alignment.[10] The trick is how to assign meaning. One interpretation is that absence or abstention is an oppositional move. If a vote will be close or if the United States’ goal is to avoid isolation on a particular issue, abstentions don’t help.[11] Another interpretation of absence or abstention is that it is non-oppositional. Abstaining or declining to vote may be a politically palatable way for countries to assuage citizen demands at home while also not actively opposing the United States. The United States may welcome abstention or absence from a country that would otherwise actively oppose its position.\"\n",
    "\n",
    "\n",
    "1. **Non-Important Votes**: These are votes corresponding to resolutions/amendements/etc. that the U.S. State Deparment deemed non-consequential. The question is should these minor/very minor votes be considered in our analysis, or is doing so the equivalent of injecting white noise into a system? Taking the stance from the first quotation above, we will not be using non-important votes in the analysis. We believe that in order to measure pro-US alignment, it is apropos to consider resolutions marked by the State Department as significant...presumeably to U.S. interests\n",
    "2. **Is \"Abstain\" a Non-Oppositionary Position**? The other consideration is whether the abstain/exclude vote should be automatically (or not) considered as aligned (not-aligned) with the U.S. If we are only considering important votes, we might be unncessarily punishing \"fringe\" countries that choose to abstain: it is quite plausible that \"neutral\" or \"enemy\" nations can feel political pressured to align with the United States in order to prevent souring relations and in this regard the \"abstain\" vote is their political \"out\" and recourse. This should not be punished. Hence we will use any \"Abtain\" or \"Exclude\" position as automatically aligning with the U.S. "
   ]
  },
  {
   "cell_type": "markdown",
   "metadata": {},
   "source": [
    "## Data Sources Information \n",
    "\n",
    "Data comes from two sources. We need United Nations General Assembly (UNGA) voting records and data regarding US foreign aid.\n",
    "\n",
    "### UNGA Voting Data \n",
    "The first comes from https://dataverse.harvard.edu/dataset.xhtml?persistentId=hdl:1902.1/12379 which contains record data as well as voting description data/\"metadata.\" This is for the time period 1946-2017. A more complete description of these datasets can be found in the 'Codebook.pdf' in this project's repository\n",
    "\n",
    "**Required Citations:**\n",
    "\n",
    "- Inter-university Consortium for Political and Social Research. United Nations Roll Call Data, 1946-1985. Ann Arbor, MI: Inter-university Consortium for Political and Social Research [distributor], 1992-02-16. https://doi.org/10.3886/ICPSR05512.v1\n",
    "- Erik Voeten \"Data and Analyses of Voting in the UN General Assembly\" Routledge Handbook of International Organization, edited by Bob Reinalda (published May 27, 2013). Available at SSRN: http://ssrn.com/abstract=2111149 *Second citation made at the request indicated by author at the Codebook found at the above link\n",
    "\n",
    "We detail the schemas here: \n",
    "\n",
    "**Vote Records Data**\n",
    "\n",
    "rcid: resolution ID, can be used as foreign key to other datasets\n",
    "vote_type: i.e. yes/no/abstain/etc\n",
    "ccode: country code\n",
    "session: UNGA (United Nations General Assembly) session number (1-99)\n",
    "\n",
    "**Vote Description Data**\n",
    "\n",
    "rcid: resolution ID, can be used as foreign key to other datasets\n",
    "session: UNGA session date\n",
    "short: short description\n",
    "descr: longer description\n",
    "important: whether said resolution was deemed \"important\" by U.S. State Department\n",
    "\n",
    "**Issue codes (non-exclusive):**\n",
    "\n",
    "ME: Votes relating to the Israeli-Palestinian conflict\n",
    "NU: Votes relating to nuclear weapons and disarmament/arms control\n",
    "CO: Votes relating to colonialism\n",
    "HR: Votes relating to human rights\n",
    "EC: Votes relating to economic development\n",
    "\n",
    "### US Foreign Aid Data \n",
    "\n",
    "**Required Citation**: \n",
    "\n",
    "-Title: Foreign Aid Explorer: The official record of U.S. foreign aid\n",
    "\n",
    "-Author: U.S. Agency for International Development (USAID)\n",
    "\n",
    "US foreign aid data comes from the US Department for Foreign Aid @ USAID.gov. https://explorer.usaid.gov/about.html#tab-about. The data set lists all individual foreign aid transactions 1946-2017. The data can be downloaded from: https://explorer.usaid.gov/data.html under \"complete dataset.\" \n",
    "\n",
    "## Licenses\n",
    "\n",
    "- The UN Voting data is released under a CC0 \"Public Domain Dedication\" license. It is expected, furthermore, that all data used from Harvard Dataverse and child sites be subject to the following community norms found at https://dataverse.org/best-practices/dataverse-community-norms.\n",
    "- USAID.gov data is released under a \"Partner Data License\" (https://www.usaid.gov/data/license-data-created-usaid-partners) which \"which include the right to reproduce, publish, or otherwise use the data, through a Creative Commons Attribution-No Derivatives 4.0 International License\"\n"
   ]
  },
  {
   "cell_type": "markdown",
   "metadata": {},
   "source": [
    "## Data Preparation \n",
    "\n",
    "**Note**: Before doing this step, please follow the data download instructions on this project's README.md, as the data files are too large to be simply hosted on this repository. Please ensure that upon download that those properly-named data files are in the same directory as *this* notebook file. \n",
    "\n",
    "In this section, we describe how the original datasets and transformed and prepared for the later analysis. By the end of this section, two key dataframes will be established: \n",
    "1. **align_aid_by_year**: Dataframe of schema (Year, Country, Aid, Alignment) where Aid and Alignment are totals for that country for that year\n",
    "2. **align_aid_totals**: Dataframe of schema (Country, Aid, Alignment) where Aid and Alignment are totals for the entire time period in question, by country (since we will be using important votes, this will be ca. 1985 to 2017).\n",
    "3. **align_aid_historical**: Dataframe of (Year, Aid, Alignment) where Aid and Alignment are totals for each year, worldwide aggregated. "
   ]
  },
  {
   "cell_type": "markdown",
   "metadata": {},
   "source": [
    "Read in the **voting records** dataset, **descriptions** dataset and **US foreign aid transactions** datasets. These all are in this project's repository "
   ]
  },
  {
   "cell_type": "code",
   "execution_count": 239,
   "metadata": {},
   "outputs": [
    {
     "name": "stderr",
     "output_type": "stream",
     "text": [
      "/Users/rahulbirmiwal/miniconda3/lib/python3.6/site-packages/IPython/core/interactiveshell.py:2728: DtypeWarning: Columns (42) have mixed types. Specify dtype option on import or set low_memory=False.\n",
      "  interactivity=interactivity, compiler=compiler, result=result)\n"
     ]
    }
   ],
   "source": [
    "# voting \n",
    "vote_df = pd.read_csv('UNVotes1-72.tab.tsv', sep='\\t')\n",
    "\n",
    "# descriptions\n",
    "des_df = pd.read_csv('DescriptionsUN1-72.csv')\n",
    "\n",
    "# foreign aid \n",
    "aid_df = pd.read_csv('us_foreign_aid_complete.csv')"
   ]
  },
  {
   "cell_type": "markdown",
   "metadata": {},
   "source": [
    "View heads of each of the datafrmes..."
   ]
  },
  {
   "cell_type": "code",
   "execution_count": 240,
   "metadata": {},
   "outputs": [
    {
     "data": {
      "text/html": [
       "<div>\n",
       "<style scoped>\n",
       "    .dataframe tbody tr th:only-of-type {\n",
       "        vertical-align: middle;\n",
       "    }\n",
       "\n",
       "    .dataframe tbody tr th {\n",
       "        vertical-align: top;\n",
       "    }\n",
       "\n",
       "    .dataframe thead th {\n",
       "        text-align: right;\n",
       "    }\n",
       "</style>\n",
       "<table border=\"1\" class=\"dataframe\">\n",
       "  <thead>\n",
       "    <tr style=\"text-align: right;\">\n",
       "      <th></th>\n",
       "      <th>rcid</th>\n",
       "      <th>ccode</th>\n",
       "      <th>session</th>\n",
       "      <th>member</th>\n",
       "      <th>vote</th>\n",
       "      <th>Country</th>\n",
       "      <th>Countryname</th>\n",
       "      <th>year</th>\n",
       "    </tr>\n",
       "  </thead>\n",
       "  <tbody>\n",
       "    <tr>\n",
       "      <th>0</th>\n",
       "      <td>3.0</td>\n",
       "      <td>2</td>\n",
       "      <td>1.0</td>\n",
       "      <td>1.0</td>\n",
       "      <td>1</td>\n",
       "      <td>USA</td>\n",
       "      <td>United States of America</td>\n",
       "      <td>1946</td>\n",
       "    </tr>\n",
       "    <tr>\n",
       "      <th>1</th>\n",
       "      <td>3.0</td>\n",
       "      <td>20</td>\n",
       "      <td>1.0</td>\n",
       "      <td>1.0</td>\n",
       "      <td>3</td>\n",
       "      <td>CAN</td>\n",
       "      <td>Canada</td>\n",
       "      <td>1946</td>\n",
       "    </tr>\n",
       "    <tr>\n",
       "      <th>2</th>\n",
       "      <td>3.0</td>\n",
       "      <td>31</td>\n",
       "      <td>1.0</td>\n",
       "      <td>NaN</td>\n",
       "      <td>9</td>\n",
       "      <td>BHS</td>\n",
       "      <td>Bahamas</td>\n",
       "      <td>1946</td>\n",
       "    </tr>\n",
       "    <tr>\n",
       "      <th>3</th>\n",
       "      <td>3.0</td>\n",
       "      <td>40</td>\n",
       "      <td>1.0</td>\n",
       "      <td>1.0</td>\n",
       "      <td>1</td>\n",
       "      <td>CUB</td>\n",
       "      <td>Cuba</td>\n",
       "      <td>1946</td>\n",
       "    </tr>\n",
       "    <tr>\n",
       "      <th>4</th>\n",
       "      <td>3.0</td>\n",
       "      <td>41</td>\n",
       "      <td>1.0</td>\n",
       "      <td>1.0</td>\n",
       "      <td>1</td>\n",
       "      <td>HTI</td>\n",
       "      <td>Haiti</td>\n",
       "      <td>1946</td>\n",
       "    </tr>\n",
       "  </tbody>\n",
       "</table>\n",
       "</div>"
      ],
      "text/plain": [
       "   rcid  ccode  session  member  vote Country               Countryname  year\n",
       "0   3.0      2      1.0     1.0     1     USA  United States of America  1946\n",
       "1   3.0     20      1.0     1.0     3     CAN                    Canada  1946\n",
       "2   3.0     31      1.0     NaN     9     BHS                   Bahamas  1946\n",
       "3   3.0     40      1.0     1.0     1     CUB                      Cuba  1946\n",
       "4   3.0     41      1.0     1.0     1     HTI                     Haiti  1946"
      ]
     },
     "execution_count": 240,
     "metadata": {},
     "output_type": "execute_result"
    }
   ],
   "source": [
    "vote_df.head()"
   ]
  },
  {
   "cell_type": "code",
   "execution_count": 241,
   "metadata": {},
   "outputs": [
    {
     "data": {
      "text/html": [
       "<div>\n",
       "<style scoped>\n",
       "    .dataframe tbody tr th:only-of-type {\n",
       "        vertical-align: middle;\n",
       "    }\n",
       "\n",
       "    .dataframe tbody tr th {\n",
       "        vertical-align: top;\n",
       "    }\n",
       "\n",
       "    .dataframe thead th {\n",
       "        text-align: right;\n",
       "    }\n",
       "</style>\n",
       "<table border=\"1\" class=\"dataframe\">\n",
       "  <thead>\n",
       "    <tr style=\"text-align: right;\">\n",
       "      <th></th>\n",
       "      <th>session</th>\n",
       "      <th>rcid</th>\n",
       "      <th>abstain</th>\n",
       "      <th>yes</th>\n",
       "      <th>no</th>\n",
       "      <th>importantvote</th>\n",
       "      <th>date</th>\n",
       "      <th>unres</th>\n",
       "      <th>amend</th>\n",
       "      <th>para</th>\n",
       "      <th>short</th>\n",
       "      <th>descr</th>\n",
       "      <th>me</th>\n",
       "      <th>nu</th>\n",
       "      <th>di</th>\n",
       "      <th>hr</th>\n",
       "      <th>co</th>\n",
       "      <th>ec</th>\n",
       "    </tr>\n",
       "  </thead>\n",
       "  <tbody>\n",
       "    <tr>\n",
       "      <th>0</th>\n",
       "      <td>1</td>\n",
       "      <td>3</td>\n",
       "      <td>4</td>\n",
       "      <td>29</td>\n",
       "      <td>18</td>\n",
       "      <td>0</td>\n",
       "      <td>1/1/1946</td>\n",
       "      <td>R/1/66</td>\n",
       "      <td>1.0</td>\n",
       "      <td>0.0</td>\n",
       "      <td>AMENDMENTS, RULES OF PROCEDURE</td>\n",
       "      <td>TO ADOPT A CUBAN AMENDMENT TO THE UK PROPOSAL ...</td>\n",
       "      <td>0.0</td>\n",
       "      <td>0.0</td>\n",
       "      <td>0.0</td>\n",
       "      <td>0.0</td>\n",
       "      <td>0.0</td>\n",
       "      <td>0</td>\n",
       "    </tr>\n",
       "    <tr>\n",
       "      <th>1</th>\n",
       "      <td>1</td>\n",
       "      <td>4</td>\n",
       "      <td>8</td>\n",
       "      <td>9</td>\n",
       "      <td>34</td>\n",
       "      <td>0</td>\n",
       "      <td>1/2/1946</td>\n",
       "      <td>R/1/79</td>\n",
       "      <td>0.0</td>\n",
       "      <td>0.0</td>\n",
       "      <td>SECURITY COUNCIL ELECTIONS</td>\n",
       "      <td>TO ADOPT A USSR PROPOSAL ADJOURNING DEBATE ON ...</td>\n",
       "      <td>0.0</td>\n",
       "      <td>0.0</td>\n",
       "      <td>0.0</td>\n",
       "      <td>0.0</td>\n",
       "      <td>0.0</td>\n",
       "      <td>0</td>\n",
       "    </tr>\n",
       "    <tr>\n",
       "      <th>2</th>\n",
       "      <td>1</td>\n",
       "      <td>5</td>\n",
       "      <td>1</td>\n",
       "      <td>28</td>\n",
       "      <td>22</td>\n",
       "      <td>0</td>\n",
       "      <td>1/4/1946</td>\n",
       "      <td>R/1/98</td>\n",
       "      <td>0.0</td>\n",
       "      <td>0.0</td>\n",
       "      <td>VOTING PROCEDURE</td>\n",
       "      <td>TO ADOPT THE KOREAN PROPOSAL THAT INVALID BALL...</td>\n",
       "      <td>0.0</td>\n",
       "      <td>0.0</td>\n",
       "      <td>0.0</td>\n",
       "      <td>0.0</td>\n",
       "      <td>0.0</td>\n",
       "      <td>0</td>\n",
       "    </tr>\n",
       "    <tr>\n",
       "      <th>3</th>\n",
       "      <td>1</td>\n",
       "      <td>6</td>\n",
       "      <td>10</td>\n",
       "      <td>12</td>\n",
       "      <td>27</td>\n",
       "      <td>0</td>\n",
       "      <td>1/4/1946</td>\n",
       "      <td>R/1/107</td>\n",
       "      <td>0.0</td>\n",
       "      <td>0.0</td>\n",
       "      <td>DECLARATION OF HUMAN RIGHTS</td>\n",
       "      <td>TO ADOPT A CUBAN PROPOSAL (A/3-C) THAT AN ITEM...</td>\n",
       "      <td>0.0</td>\n",
       "      <td>0.0</td>\n",
       "      <td>0.0</td>\n",
       "      <td>1.0</td>\n",
       "      <td>0.0</td>\n",
       "      <td>0</td>\n",
       "    </tr>\n",
       "    <tr>\n",
       "      <th>4</th>\n",
       "      <td>1</td>\n",
       "      <td>7</td>\n",
       "      <td>0</td>\n",
       "      <td>25</td>\n",
       "      <td>18</td>\n",
       "      <td>0</td>\n",
       "      <td>1/2/1946</td>\n",
       "      <td>R/1/295</td>\n",
       "      <td>1.0</td>\n",
       "      <td>0.0</td>\n",
       "      <td>GENERAL ASSEMBLY ELECTIONS</td>\n",
       "      <td>TO ADOPT A 6TH COMMITTEE AMENDMENT (A/14) TO T...</td>\n",
       "      <td>NaN</td>\n",
       "      <td>NaN</td>\n",
       "      <td>NaN</td>\n",
       "      <td>NaN</td>\n",
       "      <td>NaN</td>\n",
       "      <td>NaN</td>\n",
       "    </tr>\n",
       "  </tbody>\n",
       "</table>\n",
       "</div>"
      ],
      "text/plain": [
       "   session  rcid  abstain  yes  no  importantvote      date    unres  amend  \\\n",
       "0        1     3        4   29  18              0  1/1/1946   R/1/66    1.0   \n",
       "1        1     4        8    9  34              0  1/2/1946   R/1/79    0.0   \n",
       "2        1     5        1   28  22              0  1/4/1946   R/1/98    0.0   \n",
       "3        1     6       10   12  27              0  1/4/1946  R/1/107    0.0   \n",
       "4        1     7        0   25  18              0  1/2/1946  R/1/295    1.0   \n",
       "\n",
       "   para                           short  \\\n",
       "0   0.0  AMENDMENTS, RULES OF PROCEDURE   \n",
       "1   0.0      SECURITY COUNCIL ELECTIONS   \n",
       "2   0.0                VOTING PROCEDURE   \n",
       "3   0.0     DECLARATION OF HUMAN RIGHTS   \n",
       "4   0.0      GENERAL ASSEMBLY ELECTIONS   \n",
       "\n",
       "                                               descr   me   nu   di   hr   co  \\\n",
       "0  TO ADOPT A CUBAN AMENDMENT TO THE UK PROPOSAL ...  0.0  0.0  0.0  0.0  0.0   \n",
       "1  TO ADOPT A USSR PROPOSAL ADJOURNING DEBATE ON ...  0.0  0.0  0.0  0.0  0.0   \n",
       "2  TO ADOPT THE KOREAN PROPOSAL THAT INVALID BALL...  0.0  0.0  0.0  0.0  0.0   \n",
       "3  TO ADOPT A CUBAN PROPOSAL (A/3-C) THAT AN ITEM...  0.0  0.0  0.0  1.0  0.0   \n",
       "4  TO ADOPT A 6TH COMMITTEE AMENDMENT (A/14) TO T...  NaN  NaN  NaN  NaN  NaN   \n",
       "\n",
       "    ec  \n",
       "0    0  \n",
       "1    0  \n",
       "2    0  \n",
       "3    0  \n",
       "4  NaN  "
      ]
     },
     "execution_count": 241,
     "metadata": {},
     "output_type": "execute_result"
    }
   ],
   "source": [
    "des_df.head()"
   ]
  },
  {
   "cell_type": "code",
   "execution_count": 242,
   "metadata": {},
   "outputs": [
    {
     "data": {
      "text/html": [
       "<div>\n",
       "<style scoped>\n",
       "    .dataframe tbody tr th:only-of-type {\n",
       "        vertical-align: middle;\n",
       "    }\n",
       "\n",
       "    .dataframe tbody tr th {\n",
       "        vertical-align: top;\n",
       "    }\n",
       "\n",
       "    .dataframe thead th {\n",
       "        text-align: right;\n",
       "    }\n",
       "</style>\n",
       "<table border=\"1\" class=\"dataframe\">\n",
       "  <thead>\n",
       "    <tr style=\"text-align: right;\">\n",
       "      <th></th>\n",
       "      <th>country_id</th>\n",
       "      <th>country_code</th>\n",
       "      <th>country_name</th>\n",
       "      <th>region_id</th>\n",
       "      <th>region_name</th>\n",
       "      <th>income_group_id</th>\n",
       "      <th>income_group_name</th>\n",
       "      <th>income_group_acronym</th>\n",
       "      <th>implementing_agency_id</th>\n",
       "      <th>implementing_agency_acronym</th>\n",
       "      <th>...</th>\n",
       "      <th>activity_start_date</th>\n",
       "      <th>activity_end_date</th>\n",
       "      <th>transaction_type_id</th>\n",
       "      <th>transaction_type_name</th>\n",
       "      <th>fiscal_year</th>\n",
       "      <th>current_amount</th>\n",
       "      <th>constant_amount</th>\n",
       "      <th>USG_sector_id</th>\n",
       "      <th>USG_sector_name</th>\n",
       "      <th>submission_id</th>\n",
       "    </tr>\n",
       "  </thead>\n",
       "  <tbody>\n",
       "    <tr>\n",
       "      <th>0</th>\n",
       "      <td>4</td>\n",
       "      <td>AFG</td>\n",
       "      <td>Afghanistan</td>\n",
       "      <td>4</td>\n",
       "      <td>South and Central Asia</td>\n",
       "      <td>1.0</td>\n",
       "      <td>Low Income Country</td>\n",
       "      <td>LIC</td>\n",
       "      <td>7</td>\n",
       "      <td>DOD</td>\n",
       "      <td>...</td>\n",
       "      <td>NaN</td>\n",
       "      <td>NaN</td>\n",
       "      <td>2</td>\n",
       "      <td>Obligations</td>\n",
       "      <td>2011</td>\n",
       "      <td>9941000000</td>\n",
       "      <td>10731991839</td>\n",
       "      <td>3</td>\n",
       "      <td>Stabilization Operations and Security Sector R...</td>\n",
       "      <td>28</td>\n",
       "    </tr>\n",
       "    <tr>\n",
       "      <th>1</th>\n",
       "      <td>4</td>\n",
       "      <td>AFG</td>\n",
       "      <td>Afghanistan</td>\n",
       "      <td>4</td>\n",
       "      <td>South and Central Asia</td>\n",
       "      <td>1.0</td>\n",
       "      <td>Low Income Country</td>\n",
       "      <td>LIC</td>\n",
       "      <td>7</td>\n",
       "      <td>DOD</td>\n",
       "      <td>...</td>\n",
       "      <td>NaN</td>\n",
       "      <td>NaN</td>\n",
       "      <td>2</td>\n",
       "      <td>Obligations</td>\n",
       "      <td>2012</td>\n",
       "      <td>9243000000</td>\n",
       "      <td>9799467226</td>\n",
       "      <td>3</td>\n",
       "      <td>Stabilization Operations and Security Sector R...</td>\n",
       "      <td>28</td>\n",
       "    </tr>\n",
       "    <tr>\n",
       "      <th>2</th>\n",
       "      <td>4</td>\n",
       "      <td>AFG</td>\n",
       "      <td>Afghanistan</td>\n",
       "      <td>4</td>\n",
       "      <td>South and Central Asia</td>\n",
       "      <td>1.0</td>\n",
       "      <td>Low Income Country</td>\n",
       "      <td>LIC</td>\n",
       "      <td>7</td>\n",
       "      <td>DOD</td>\n",
       "      <td>...</td>\n",
       "      <td>NaN</td>\n",
       "      <td>NaN</td>\n",
       "      <td>3</td>\n",
       "      <td>Disbursements</td>\n",
       "      <td>2011</td>\n",
       "      <td>7840175215</td>\n",
       "      <td>8464007285</td>\n",
       "      <td>3</td>\n",
       "      <td>Stabilization Operations and Security Sector R...</td>\n",
       "      <td>28</td>\n",
       "    </tr>\n",
       "    <tr>\n",
       "      <th>3</th>\n",
       "      <td>4</td>\n",
       "      <td>AFG</td>\n",
       "      <td>Afghanistan</td>\n",
       "      <td>4</td>\n",
       "      <td>South and Central Asia</td>\n",
       "      <td>1.0</td>\n",
       "      <td>Low Income Country</td>\n",
       "      <td>LIC</td>\n",
       "      <td>7</td>\n",
       "      <td>DOD</td>\n",
       "      <td>...</td>\n",
       "      <td>NaN</td>\n",
       "      <td>NaN</td>\n",
       "      <td>3</td>\n",
       "      <td>Disbursements</td>\n",
       "      <td>2013</td>\n",
       "      <td>7764310985</td>\n",
       "      <td>8095048196</td>\n",
       "      <td>3</td>\n",
       "      <td>Stabilization Operations and Security Sector R...</td>\n",
       "      <td>28</td>\n",
       "    </tr>\n",
       "    <tr>\n",
       "      <th>4</th>\n",
       "      <td>4</td>\n",
       "      <td>AFG</td>\n",
       "      <td>Afghanistan</td>\n",
       "      <td>4</td>\n",
       "      <td>South and Central Asia</td>\n",
       "      <td>1.0</td>\n",
       "      <td>Low Income Country</td>\n",
       "      <td>LIC</td>\n",
       "      <td>7</td>\n",
       "      <td>DOD</td>\n",
       "      <td>...</td>\n",
       "      <td>NaN</td>\n",
       "      <td>NaN</td>\n",
       "      <td>2</td>\n",
       "      <td>Obligations</td>\n",
       "      <td>2013</td>\n",
       "      <td>6928000000</td>\n",
       "      <td>7223112779</td>\n",
       "      <td>3</td>\n",
       "      <td>Stabilization Operations and Security Sector R...</td>\n",
       "      <td>28</td>\n",
       "    </tr>\n",
       "  </tbody>\n",
       "</table>\n",
       "<p>5 rows × 48 columns</p>\n",
       "</div>"
      ],
      "text/plain": [
       "   country_id country_code country_name  region_id             region_name  \\\n",
       "0           4          AFG  Afghanistan          4  South and Central Asia   \n",
       "1           4          AFG  Afghanistan          4  South and Central Asia   \n",
       "2           4          AFG  Afghanistan          4  South and Central Asia   \n",
       "3           4          AFG  Afghanistan          4  South and Central Asia   \n",
       "4           4          AFG  Afghanistan          4  South and Central Asia   \n",
       "\n",
       "   income_group_id   income_group_name income_group_acronym  \\\n",
       "0              1.0  Low Income Country                  LIC   \n",
       "1              1.0  Low Income Country                  LIC   \n",
       "2              1.0  Low Income Country                  LIC   \n",
       "3              1.0  Low Income Country                  LIC   \n",
       "4              1.0  Low Income Country                  LIC   \n",
       "\n",
       "   implementing_agency_id implementing_agency_acronym      ...       \\\n",
       "0                       7                         DOD      ...        \n",
       "1                       7                         DOD      ...        \n",
       "2                       7                         DOD      ...        \n",
       "3                       7                         DOD      ...        \n",
       "4                       7                         DOD      ...        \n",
       "\n",
       "  activity_start_date  activity_end_date transaction_type_id  \\\n",
       "0                 NaN                NaN                   2   \n",
       "1                 NaN                NaN                   2   \n",
       "2                 NaN                NaN                   3   \n",
       "3                 NaN                NaN                   3   \n",
       "4                 NaN                NaN                   2   \n",
       "\n",
       "  transaction_type_name  fiscal_year current_amount  constant_amount  \\\n",
       "0           Obligations         2011     9941000000      10731991839   \n",
       "1           Obligations         2012     9243000000       9799467226   \n",
       "2         Disbursements         2011     7840175215       8464007285   \n",
       "3         Disbursements         2013     7764310985       8095048196   \n",
       "4           Obligations         2013     6928000000       7223112779   \n",
       "\n",
       "  USG_sector_id                                    USG_sector_name  \\\n",
       "0             3  Stabilization Operations and Security Sector R...   \n",
       "1             3  Stabilization Operations and Security Sector R...   \n",
       "2             3  Stabilization Operations and Security Sector R...   \n",
       "3             3  Stabilization Operations and Security Sector R...   \n",
       "4             3  Stabilization Operations and Security Sector R...   \n",
       "\n",
       "  submission_id  \n",
       "0            28  \n",
       "1            28  \n",
       "2            28  \n",
       "3            28  \n",
       "4            28  \n",
       "\n",
       "[5 rows x 48 columns]"
      ]
     },
     "execution_count": 242,
     "metadata": {},
     "output_type": "execute_result"
    }
   ],
   "source": [
    "aid_df.head()"
   ]
  },
  {
   "cell_type": "markdown",
   "metadata": {},
   "source": [
    "### Step 1: Create Aid by Country & Year Table\n",
    "\n",
    "We need to create a table of schema: (year, country, aid-received). This is because the *aid_df* contain transactions that may/often occur many times per year. We do this below: \n",
    "\n",
    "**Note: We use the 'constant_amount' column as that is the dollar amount of aid, adjusted for inflation (i.e. in constant currency)**"
   ]
  },
  {
   "cell_type": "code",
   "execution_count": 243,
   "metadata": {},
   "outputs": [
    {
     "data": {
      "text/html": [
       "<div>\n",
       "<style scoped>\n",
       "    .dataframe tbody tr th:only-of-type {\n",
       "        vertical-align: middle;\n",
       "    }\n",
       "\n",
       "    .dataframe tbody tr th {\n",
       "        vertical-align: top;\n",
       "    }\n",
       "\n",
       "    .dataframe thead th {\n",
       "        text-align: right;\n",
       "    }\n",
       "</style>\n",
       "<table border=\"1\" class=\"dataframe\">\n",
       "  <thead>\n",
       "    <tr style=\"text-align: right;\">\n",
       "      <th></th>\n",
       "      <th>country_name</th>\n",
       "      <th>fiscal_year</th>\n",
       "      <th>constant_amount</th>\n",
       "    </tr>\n",
       "  </thead>\n",
       "  <tbody>\n",
       "    <tr>\n",
       "      <th>0</th>\n",
       "      <td>Afghanistan</td>\n",
       "      <td>1964</td>\n",
       "      <td>936644</td>\n",
       "    </tr>\n",
       "    <tr>\n",
       "      <th>1</th>\n",
       "      <td>Afghanistan</td>\n",
       "      <td>1965</td>\n",
       "      <td>400486</td>\n",
       "    </tr>\n",
       "    <tr>\n",
       "      <th>2</th>\n",
       "      <td>Afghanistan</td>\n",
       "      <td>1966</td>\n",
       "      <td>684626</td>\n",
       "    </tr>\n",
       "    <tr>\n",
       "      <th>3</th>\n",
       "      <td>Afghanistan</td>\n",
       "      <td>1967</td>\n",
       "      <td>919849</td>\n",
       "    </tr>\n",
       "    <tr>\n",
       "      <th>4</th>\n",
       "      <td>Afghanistan</td>\n",
       "      <td>1969</td>\n",
       "      <td>1427711</td>\n",
       "    </tr>\n",
       "  </tbody>\n",
       "</table>\n",
       "</div>"
      ],
      "text/plain": [
       "  country_name fiscal_year  constant_amount\n",
       "0  Afghanistan        1964           936644\n",
       "1  Afghanistan        1965           400486\n",
       "2  Afghanistan        1966           684626\n",
       "3  Afghanistan        1967           919849\n",
       "4  Afghanistan        1969          1427711"
      ]
     },
     "execution_count": 243,
     "metadata": {},
     "output_type": "execute_result"
    }
   ],
   "source": [
    "fiscal_df = aid_df.groupby(['country_name', 'fiscal_year'])['constant_amount'].agg('sum').reset_index()\n",
    "fiscal_df.head()"
   ]
  },
  {
   "cell_type": "markdown",
   "metadata": {},
   "source": [
    "### Step 2: Create Country-Info Table\n",
    "\n",
    "We need to create table (that will be used in the later parts of this analysis) regarding income and geographic information for each country. We do this below: "
   ]
  },
  {
   "cell_type": "code",
   "execution_count": 244,
   "metadata": {},
   "outputs": [
    {
     "data": {
      "text/html": [
       "<div>\n",
       "<style scoped>\n",
       "    .dataframe tbody tr th:only-of-type {\n",
       "        vertical-align: middle;\n",
       "    }\n",
       "\n",
       "    .dataframe tbody tr th {\n",
       "        vertical-align: top;\n",
       "    }\n",
       "\n",
       "    .dataframe thead th {\n",
       "        text-align: right;\n",
       "    }\n",
       "</style>\n",
       "<table border=\"1\" class=\"dataframe\">\n",
       "  <thead>\n",
       "    <tr style=\"text-align: right;\">\n",
       "      <th></th>\n",
       "      <th>country_name</th>\n",
       "      <th>income_group_name</th>\n",
       "      <th>region_name</th>\n",
       "    </tr>\n",
       "  </thead>\n",
       "  <tbody>\n",
       "    <tr>\n",
       "      <th>0</th>\n",
       "      <td>Afghanistan</td>\n",
       "      <td>Low Income Country</td>\n",
       "      <td>South and Central Asia</td>\n",
       "    </tr>\n",
       "    <tr>\n",
       "      <th>13</th>\n",
       "      <td>Iraq</td>\n",
       "      <td>Upper Middle Income Country</td>\n",
       "      <td>Middle East and North Africa</td>\n",
       "    </tr>\n",
       "    <tr>\n",
       "      <th>21</th>\n",
       "      <td>Poland</td>\n",
       "      <td>High Income Country</td>\n",
       "      <td>Europe and Eurasia</td>\n",
       "    </tr>\n",
       "    <tr>\n",
       "      <th>23</th>\n",
       "      <td>United Kingdom</td>\n",
       "      <td>High Income Country</td>\n",
       "      <td>Europe and Eurasia</td>\n",
       "    </tr>\n",
       "    <tr>\n",
       "      <th>30</th>\n",
       "      <td>Vietnam (former South)</td>\n",
       "      <td>NaN</td>\n",
       "      <td>East Asia and Oceania</td>\n",
       "    </tr>\n",
       "  </tbody>\n",
       "</table>\n",
       "</div>"
      ],
      "text/plain": [
       "              country_name            income_group_name  \\\n",
       "0              Afghanistan           Low Income Country   \n",
       "13                    Iraq  Upper Middle Income Country   \n",
       "21                  Poland          High Income Country   \n",
       "23          United Kingdom          High Income Country   \n",
       "30  Vietnam (former South)                          NaN   \n",
       "\n",
       "                     region_name  \n",
       "0         South and Central Asia  \n",
       "13  Middle East and North Africa  \n",
       "21            Europe and Eurasia  \n",
       "23            Europe and Eurasia  \n",
       "30         East Asia and Oceania  "
      ]
     },
     "execution_count": 244,
     "metadata": {},
     "output_type": "execute_result"
    }
   ],
   "source": [
    "country_info_df = aid_df[['country_name', 'income_group_name', 'region_name']].drop_duplicates()\n",
    "country_info_df.head()"
   ]
  },
  {
   "cell_type": "markdown",
   "metadata": {},
   "source": [
    "### Step 3: Create Table of US Voting Data and *Important-Vote*  For Each *'rcid'*\n",
    "\n",
    "The *vote_df* voting data contains voting data for each country for each rcid (roll-call/resolution ID). As a precursor to determine voting alignmnt with the United States, we need to extract US voting behavior for each of these rcids. Another set of information we need is whether a given 'rcid' is classified by the US State Department as an *important vote* (listed as 1 in the importantvote column). Furthermore, we need to know if each country votes (including abstain/exclude) for all rcids: "
   ]
  },
  {
   "cell_type": "code",
   "execution_count": 245,
   "metadata": {},
   "outputs": [
    {
     "data": {
      "text/html": [
       "<div>\n",
       "<style scoped>\n",
       "    .dataframe tbody tr th:only-of-type {\n",
       "        vertical-align: middle;\n",
       "    }\n",
       "\n",
       "    .dataframe tbody tr th {\n",
       "        vertical-align: top;\n",
       "    }\n",
       "\n",
       "    .dataframe thead th {\n",
       "        text-align: right;\n",
       "    }\n",
       "</style>\n",
       "<table border=\"1\" class=\"dataframe\">\n",
       "  <thead>\n",
       "    <tr style=\"text-align: right;\">\n",
       "      <th></th>\n",
       "      <th>Country</th>\n",
       "      <th>0</th>\n",
       "    </tr>\n",
       "  </thead>\n",
       "  <tbody>\n",
       "    <tr>\n",
       "      <th>193</th>\n",
       "      <td>YMD</td>\n",
       "      <td>4704</td>\n",
       "    </tr>\n",
       "    <tr>\n",
       "      <th>194</th>\n",
       "      <td>YUG</td>\n",
       "      <td>5598</td>\n",
       "    </tr>\n",
       "    <tr>\n",
       "      <th>195</th>\n",
       "      <td>ZAF</td>\n",
       "      <td>5598</td>\n",
       "    </tr>\n",
       "    <tr>\n",
       "      <th>196</th>\n",
       "      <td>ZMB</td>\n",
       "      <td>5598</td>\n",
       "    </tr>\n",
       "    <tr>\n",
       "      <th>197</th>\n",
       "      <td>ZWE</td>\n",
       "      <td>5525</td>\n",
       "    </tr>\n",
       "  </tbody>\n",
       "</table>\n",
       "</div>"
      ],
      "text/plain": [
       "    Country     0\n",
       "193     YMD  4704\n",
       "194     YUG  5598\n",
       "195     ZAF  5598\n",
       "196     ZMB  5598\n",
       "197     ZWE  5525"
      ]
     },
     "execution_count": 245,
     "metadata": {},
     "output_type": "execute_result"
    }
   ],
   "source": [
    "total_votes_by_cntry = vote_df.groupby(['Country']).size().reset_index()\n",
    "total_votes_by_cntry.tail()"
   ]
  },
  {
   "cell_type": "code",
   "execution_count": 246,
   "metadata": {},
   "outputs": [
    {
     "data": {
      "text/plain": [
       "5598"
      ]
     },
     "execution_count": 246,
     "metadata": {},
     "output_type": "execute_result"
    }
   ],
   "source": [
    "max(total_votes_by_cntry[0])"
   ]
  },
  {
   "cell_type": "markdown",
   "metadata": {},
   "source": [
    "We note that the maximum number of voting 'situations' (i.e unique rcids) is 5598. Clearly, not all countries participate in every one of these UNGA sessions 1946-2017. \n",
    "\n",
    "With this in mind, we extract US votes and important votes, and merge these together to create a *us_votes* dataframe: "
   ]
  },
  {
   "cell_type": "code",
   "execution_count": 247,
   "metadata": {},
   "outputs": [
    {
     "data": {
      "text/html": [
       "<div>\n",
       "<style scoped>\n",
       "    .dataframe tbody tr th:only-of-type {\n",
       "        vertical-align: middle;\n",
       "    }\n",
       "\n",
       "    .dataframe tbody tr th {\n",
       "        vertical-align: top;\n",
       "    }\n",
       "\n",
       "    .dataframe thead th {\n",
       "        text-align: right;\n",
       "    }\n",
       "</style>\n",
       "<table border=\"1\" class=\"dataframe\">\n",
       "  <thead>\n",
       "    <tr style=\"text-align: right;\">\n",
       "      <th></th>\n",
       "      <th>rcid</th>\n",
       "      <th>importantvote</th>\n",
       "    </tr>\n",
       "  </thead>\n",
       "  <tbody>\n",
       "    <tr>\n",
       "      <th>0</th>\n",
       "      <td>3</td>\n",
       "      <td>0</td>\n",
       "    </tr>\n",
       "    <tr>\n",
       "      <th>1</th>\n",
       "      <td>4</td>\n",
       "      <td>0</td>\n",
       "    </tr>\n",
       "    <tr>\n",
       "      <th>2</th>\n",
       "      <td>5</td>\n",
       "      <td>0</td>\n",
       "    </tr>\n",
       "    <tr>\n",
       "      <th>3</th>\n",
       "      <td>6</td>\n",
       "      <td>0</td>\n",
       "    </tr>\n",
       "    <tr>\n",
       "      <th>4</th>\n",
       "      <td>7</td>\n",
       "      <td>0</td>\n",
       "    </tr>\n",
       "  </tbody>\n",
       "</table>\n",
       "</div>"
      ],
      "text/plain": [
       "   rcid  importantvote\n",
       "0     3              0\n",
       "1     4              0\n",
       "2     5              0\n",
       "3     6              0\n",
       "4     7              0"
      ]
     },
     "execution_count": 247,
     "metadata": {},
     "output_type": "execute_result"
    }
   ],
   "source": [
    "# generate important votes\n",
    "imp_df = des_df[['rcid', 'importantvote']]\n",
    "imp_df.head()"
   ]
  },
  {
   "cell_type": "code",
   "execution_count": 248,
   "metadata": {},
   "outputs": [
    {
     "data": {
      "text/html": [
       "<div>\n",
       "<style scoped>\n",
       "    .dataframe tbody tr th:only-of-type {\n",
       "        vertical-align: middle;\n",
       "    }\n",
       "\n",
       "    .dataframe tbody tr th {\n",
       "        vertical-align: top;\n",
       "    }\n",
       "\n",
       "    .dataframe thead th {\n",
       "        text-align: right;\n",
       "    }\n",
       "</style>\n",
       "<table border=\"1\" class=\"dataframe\">\n",
       "  <thead>\n",
       "    <tr style=\"text-align: right;\">\n",
       "      <th></th>\n",
       "      <th>rcid</th>\n",
       "      <th>ccode</th>\n",
       "      <th>session</th>\n",
       "      <th>member</th>\n",
       "      <th>vote</th>\n",
       "      <th>Country</th>\n",
       "      <th>Countryname</th>\n",
       "      <th>year</th>\n",
       "      <th>importantvote</th>\n",
       "    </tr>\n",
       "  </thead>\n",
       "  <tbody>\n",
       "    <tr>\n",
       "      <th>0</th>\n",
       "      <td>3.0</td>\n",
       "      <td>2.0</td>\n",
       "      <td>1.0</td>\n",
       "      <td>1.0</td>\n",
       "      <td>1.0</td>\n",
       "      <td>USA</td>\n",
       "      <td>United States of America</td>\n",
       "      <td>1946.0</td>\n",
       "      <td>0</td>\n",
       "    </tr>\n",
       "    <tr>\n",
       "      <th>1</th>\n",
       "      <td>4.0</td>\n",
       "      <td>2.0</td>\n",
       "      <td>1.0</td>\n",
       "      <td>1.0</td>\n",
       "      <td>3.0</td>\n",
       "      <td>USA</td>\n",
       "      <td>United States of America</td>\n",
       "      <td>1946.0</td>\n",
       "      <td>0</td>\n",
       "    </tr>\n",
       "    <tr>\n",
       "      <th>2</th>\n",
       "      <td>5.0</td>\n",
       "      <td>2.0</td>\n",
       "      <td>1.0</td>\n",
       "      <td>1.0</td>\n",
       "      <td>3.0</td>\n",
       "      <td>USA</td>\n",
       "      <td>United States of America</td>\n",
       "      <td>1946.0</td>\n",
       "      <td>0</td>\n",
       "    </tr>\n",
       "    <tr>\n",
       "      <th>3</th>\n",
       "      <td>6.0</td>\n",
       "      <td>2.0</td>\n",
       "      <td>1.0</td>\n",
       "      <td>1.0</td>\n",
       "      <td>3.0</td>\n",
       "      <td>USA</td>\n",
       "      <td>United States of America</td>\n",
       "      <td>1946.0</td>\n",
       "      <td>0</td>\n",
       "    </tr>\n",
       "    <tr>\n",
       "      <th>4</th>\n",
       "      <td>7.0</td>\n",
       "      <td>2.0</td>\n",
       "      <td>1.0</td>\n",
       "      <td>1.0</td>\n",
       "      <td>3.0</td>\n",
       "      <td>USA</td>\n",
       "      <td>United States of America</td>\n",
       "      <td>1946.0</td>\n",
       "      <td>0</td>\n",
       "    </tr>\n",
       "  </tbody>\n",
       "</table>\n",
       "</div>"
      ],
      "text/plain": [
       "   rcid  ccode  session  member  vote Country               Countryname  \\\n",
       "0   3.0    2.0      1.0     1.0   1.0     USA  United States of America   \n",
       "1   4.0    2.0      1.0     1.0   3.0     USA  United States of America   \n",
       "2   5.0    2.0      1.0     1.0   3.0     USA  United States of America   \n",
       "3   6.0    2.0      1.0     1.0   3.0     USA  United States of America   \n",
       "4   7.0    2.0      1.0     1.0   3.0     USA  United States of America   \n",
       "\n",
       "     year  importantvote  \n",
       "0  1946.0              0  \n",
       "1  1946.0              0  \n",
       "2  1946.0              0  \n",
       "3  1946.0              0  \n",
       "4  1946.0              0  "
      ]
     },
     "execution_count": 248,
     "metadata": {},
     "output_type": "execute_result"
    }
   ],
   "source": [
    "# generate US voting data table \n",
    "us_votes = vote_df[vote_df['Country']=='USA']\n",
    "us_votes = us_votes.merge(imp_df,how='outer',on='rcid')\n",
    "us_votes.head()"
   ]
  },
  {
   "cell_type": "code",
   "execution_count": 249,
   "metadata": {},
   "outputs": [
    {
     "data": {
      "text/plain": [
       "5602"
      ]
     },
     "execution_count": 249,
     "metadata": {},
     "output_type": "execute_result"
    }
   ],
   "source": [
    "total_us_votes = us_votes.shape[0]\n",
    "total_us_votes"
   ]
  },
  {
   "cell_type": "markdown",
   "metadata": {},
   "source": [
    "We see that there have been 5602 instances where the US has participated in UNGA sessions, which is 4 greater than the 5598 maximum stated earlier. I do not know why this is, but the difference here is very negligible. \n",
    "\n",
    "Let's also see the number of UNGA sessions that involved an important vote: "
   ]
  },
  {
   "cell_type": "code",
   "execution_count": 250,
   "metadata": {},
   "outputs": [
    {
     "data": {
      "text/plain": [
       "411"
      ]
     },
     "execution_count": 250,
     "metadata": {},
     "output_type": "execute_result"
    }
   ],
   "source": [
    "total_us_important_votes = sum(us_votes['importantvote'])\n",
    "total_us_important_votes"
   ]
  },
  {
   "cell_type": "markdown",
   "metadata": {},
   "source": [
    "Now select important columns (i.e. we don't need session or ccode) and merge with the original *vote_df* such that we obtain, for all rcid, voting record for each nation, as well as that of the United States (again, on a per-row basis), such that voting alignment can be duly determined"
   ]
  },
  {
   "cell_type": "code",
   "execution_count": 251,
   "metadata": {},
   "outputs": [],
   "source": [
    "us_votes = us_votes[['rcid', 'vote', 'Country', 'importantvote']]\n",
    "master_votes = vote_df.merge(us_votes, how='outer',left_on='rcid',right_on='rcid')"
   ]
  },
  {
   "cell_type": "markdown",
   "metadata": {},
   "source": [
    "And now join on *fiscal_df*, such that we have the corresponding US foreign aid given to the country (on the left-hand-side of the table) for that given year. "
   ]
  },
  {
   "cell_type": "code",
   "execution_count": 252,
   "metadata": {},
   "outputs": [],
   "source": [
    "master_votes = master_votes.merge(fiscal_df, how='inner', left_on=['Countryname', 'year'], \\\n",
    "                                  right_on=['country_name', 'fiscal_year'])\n",
    "master_votes = master_votes.rename(index=str, columns={'constant_amount':'US-Aid-Const', \n",
    "    'vote_x':'cntry_vote', 'vote_y':'US_vote', 'Country_x':'Voting_cntry', 'Country_y': 'USA'})\n"
   ]
  },
  {
   "cell_type": "code",
   "execution_count": 253,
   "metadata": {},
   "outputs": [
    {
     "data": {
      "text/html": [
       "<div>\n",
       "<style scoped>\n",
       "    .dataframe tbody tr th:only-of-type {\n",
       "        vertical-align: middle;\n",
       "    }\n",
       "\n",
       "    .dataframe tbody tr th {\n",
       "        vertical-align: top;\n",
       "    }\n",
       "\n",
       "    .dataframe thead th {\n",
       "        text-align: right;\n",
       "    }\n",
       "</style>\n",
       "<table border=\"1\" class=\"dataframe\">\n",
       "  <thead>\n",
       "    <tr style=\"text-align: right;\">\n",
       "      <th></th>\n",
       "      <th>rcid</th>\n",
       "      <th>ccode</th>\n",
       "      <th>session</th>\n",
       "      <th>member</th>\n",
       "      <th>cntry_vote</th>\n",
       "      <th>Voting_cntry</th>\n",
       "      <th>Countryname</th>\n",
       "      <th>year</th>\n",
       "      <th>US_vote</th>\n",
       "      <th>USA</th>\n",
       "      <th>importantvote</th>\n",
       "      <th>country_name</th>\n",
       "      <th>fiscal_year</th>\n",
       "      <th>US-Aid-Const</th>\n",
       "    </tr>\n",
       "  </thead>\n",
       "  <tbody>\n",
       "    <tr>\n",
       "      <th>0</th>\n",
       "      <td>239.0</td>\n",
       "      <td>211.0</td>\n",
       "      <td>5.0</td>\n",
       "      <td>1.0</td>\n",
       "      <td>3.0</td>\n",
       "      <td>BEL</td>\n",
       "      <td>Belgium</td>\n",
       "      <td>1950</td>\n",
       "      <td>3.0</td>\n",
       "      <td>USA</td>\n",
       "      <td>0</td>\n",
       "      <td>Belgium</td>\n",
       "      <td>1950</td>\n",
       "      <td>303427</td>\n",
       "    </tr>\n",
       "    <tr>\n",
       "      <th>1</th>\n",
       "      <td>240.0</td>\n",
       "      <td>211.0</td>\n",
       "      <td>5.0</td>\n",
       "      <td>1.0</td>\n",
       "      <td>3.0</td>\n",
       "      <td>BEL</td>\n",
       "      <td>Belgium</td>\n",
       "      <td>1950</td>\n",
       "      <td>3.0</td>\n",
       "      <td>USA</td>\n",
       "      <td>0</td>\n",
       "      <td>Belgium</td>\n",
       "      <td>1950</td>\n",
       "      <td>303427</td>\n",
       "    </tr>\n",
       "    <tr>\n",
       "      <th>2</th>\n",
       "      <td>241.0</td>\n",
       "      <td>211.0</td>\n",
       "      <td>5.0</td>\n",
       "      <td>1.0</td>\n",
       "      <td>3.0</td>\n",
       "      <td>BEL</td>\n",
       "      <td>Belgium</td>\n",
       "      <td>1950</td>\n",
       "      <td>3.0</td>\n",
       "      <td>USA</td>\n",
       "      <td>0</td>\n",
       "      <td>Belgium</td>\n",
       "      <td>1950</td>\n",
       "      <td>303427</td>\n",
       "    </tr>\n",
       "    <tr>\n",
       "      <th>3</th>\n",
       "      <td>242.0</td>\n",
       "      <td>211.0</td>\n",
       "      <td>5.0</td>\n",
       "      <td>1.0</td>\n",
       "      <td>3.0</td>\n",
       "      <td>BEL</td>\n",
       "      <td>Belgium</td>\n",
       "      <td>1950</td>\n",
       "      <td>3.0</td>\n",
       "      <td>USA</td>\n",
       "      <td>0</td>\n",
       "      <td>Belgium</td>\n",
       "      <td>1950</td>\n",
       "      <td>303427</td>\n",
       "    </tr>\n",
       "    <tr>\n",
       "      <th>4</th>\n",
       "      <td>243.0</td>\n",
       "      <td>211.0</td>\n",
       "      <td>5.0</td>\n",
       "      <td>1.0</td>\n",
       "      <td>3.0</td>\n",
       "      <td>BEL</td>\n",
       "      <td>Belgium</td>\n",
       "      <td>1950</td>\n",
       "      <td>3.0</td>\n",
       "      <td>USA</td>\n",
       "      <td>0</td>\n",
       "      <td>Belgium</td>\n",
       "      <td>1950</td>\n",
       "      <td>303427</td>\n",
       "    </tr>\n",
       "  </tbody>\n",
       "</table>\n",
       "</div>"
      ],
      "text/plain": [
       "    rcid  ccode  session  member  cntry_vote Voting_cntry Countryname  year  \\\n",
       "0  239.0  211.0      5.0     1.0         3.0          BEL     Belgium  1950   \n",
       "1  240.0  211.0      5.0     1.0         3.0          BEL     Belgium  1950   \n",
       "2  241.0  211.0      5.0     1.0         3.0          BEL     Belgium  1950   \n",
       "3  242.0  211.0      5.0     1.0         3.0          BEL     Belgium  1950   \n",
       "4  243.0  211.0      5.0     1.0         3.0          BEL     Belgium  1950   \n",
       "\n",
       "   US_vote  USA  importantvote country_name fiscal_year  US-Aid-Const  \n",
       "0      3.0  USA              0      Belgium        1950        303427  \n",
       "1      3.0  USA              0      Belgium        1950        303427  \n",
       "2      3.0  USA              0      Belgium        1950        303427  \n",
       "3      3.0  USA              0      Belgium        1950        303427  \n",
       "4      3.0  USA              0      Belgium        1950        303427  "
      ]
     },
     "execution_count": 253,
     "metadata": {},
     "output_type": "execute_result"
    }
   ],
   "source": [
    "master_votes.head()"
   ]
  },
  {
   "cell_type": "markdown",
   "metadata": {},
   "source": [
    "### Step 4: Alignment and Important Votes\n",
    "\n",
    "As per explanation earlier, we define pro-US alignment as a *cntry_vote* that is in ('Abstain', 'Exclude') or where *cntry_vote* matches *US_vote*. We generate a column for \"Align.\" We also remove out the non-important votes, as per prior discussion. "
   ]
  },
  {
   "cell_type": "code",
   "execution_count": 254,
   "metadata": {},
   "outputs": [
    {
     "data": {
      "text/html": [
       "<div>\n",
       "<style scoped>\n",
       "    .dataframe tbody tr th:only-of-type {\n",
       "        vertical-align: middle;\n",
       "    }\n",
       "\n",
       "    .dataframe tbody tr th {\n",
       "        vertical-align: top;\n",
       "    }\n",
       "\n",
       "    .dataframe thead th {\n",
       "        text-align: right;\n",
       "    }\n",
       "</style>\n",
       "<table border=\"1\" class=\"dataframe\">\n",
       "  <thead>\n",
       "    <tr style=\"text-align: right;\">\n",
       "      <th></th>\n",
       "      <th>rcid</th>\n",
       "      <th>ccode</th>\n",
       "      <th>session</th>\n",
       "      <th>member</th>\n",
       "      <th>cntry_vote</th>\n",
       "      <th>Voting_cntry</th>\n",
       "      <th>Countryname</th>\n",
       "      <th>year</th>\n",
       "      <th>US_vote</th>\n",
       "      <th>USA</th>\n",
       "      <th>importantvote</th>\n",
       "      <th>country_name</th>\n",
       "      <th>fiscal_year</th>\n",
       "      <th>US-Aid-Const</th>\n",
       "      <th>Align</th>\n",
       "    </tr>\n",
       "  </thead>\n",
       "  <tbody>\n",
       "    <tr>\n",
       "      <th>64285</th>\n",
       "      <td>2491.0</td>\n",
       "      <td>41.0</td>\n",
       "      <td>38.0</td>\n",
       "      <td>1.0</td>\n",
       "      <td>1.0</td>\n",
       "      <td>HTI</td>\n",
       "      <td>Haiti</td>\n",
       "      <td>1983</td>\n",
       "      <td>1.0</td>\n",
       "      <td>USA</td>\n",
       "      <td>1</td>\n",
       "      <td>Haiti</td>\n",
       "      <td>1983</td>\n",
       "      <td>1545709</td>\n",
       "      <td>1</td>\n",
       "    </tr>\n",
       "    <tr>\n",
       "      <th>64286</th>\n",
       "      <td>2492.0</td>\n",
       "      <td>41.0</td>\n",
       "      <td>38.0</td>\n",
       "      <td>1.0</td>\n",
       "      <td>2.0</td>\n",
       "      <td>HTI</td>\n",
       "      <td>Haiti</td>\n",
       "      <td>1983</td>\n",
       "      <td>3.0</td>\n",
       "      <td>USA</td>\n",
       "      <td>1</td>\n",
       "      <td>Haiti</td>\n",
       "      <td>1983</td>\n",
       "      <td>1545709</td>\n",
       "      <td>1</td>\n",
       "    </tr>\n",
       "    <tr>\n",
       "      <th>64291</th>\n",
       "      <td>2497.0</td>\n",
       "      <td>41.0</td>\n",
       "      <td>38.0</td>\n",
       "      <td>1.0</td>\n",
       "      <td>1.0</td>\n",
       "      <td>HTI</td>\n",
       "      <td>Haiti</td>\n",
       "      <td>1983</td>\n",
       "      <td>1.0</td>\n",
       "      <td>USA</td>\n",
       "      <td>1</td>\n",
       "      <td>Haiti</td>\n",
       "      <td>1983</td>\n",
       "      <td>1545709</td>\n",
       "      <td>1</td>\n",
       "    </tr>\n",
       "    <tr>\n",
       "      <th>64298</th>\n",
       "      <td>2504.0</td>\n",
       "      <td>41.0</td>\n",
       "      <td>38.0</td>\n",
       "      <td>1.0</td>\n",
       "      <td>1.0</td>\n",
       "      <td>HTI</td>\n",
       "      <td>Haiti</td>\n",
       "      <td>1983</td>\n",
       "      <td>3.0</td>\n",
       "      <td>USA</td>\n",
       "      <td>1</td>\n",
       "      <td>Haiti</td>\n",
       "      <td>1983</td>\n",
       "      <td>1545709</td>\n",
       "      <td>0</td>\n",
       "    </tr>\n",
       "    <tr>\n",
       "      <th>64304</th>\n",
       "      <td>2510.0</td>\n",
       "      <td>41.0</td>\n",
       "      <td>38.0</td>\n",
       "      <td>1.0</td>\n",
       "      <td>1.0</td>\n",
       "      <td>HTI</td>\n",
       "      <td>Haiti</td>\n",
       "      <td>1983</td>\n",
       "      <td>3.0</td>\n",
       "      <td>USA</td>\n",
       "      <td>1</td>\n",
       "      <td>Haiti</td>\n",
       "      <td>1983</td>\n",
       "      <td>1545709</td>\n",
       "      <td>0</td>\n",
       "    </tr>\n",
       "  </tbody>\n",
       "</table>\n",
       "</div>"
      ],
      "text/plain": [
       "         rcid  ccode  session  member  cntry_vote Voting_cntry Countryname  \\\n",
       "64285  2491.0   41.0     38.0     1.0         1.0          HTI       Haiti   \n",
       "64286  2492.0   41.0     38.0     1.0         2.0          HTI       Haiti   \n",
       "64291  2497.0   41.0     38.0     1.0         1.0          HTI       Haiti   \n",
       "64298  2504.0   41.0     38.0     1.0         1.0          HTI       Haiti   \n",
       "64304  2510.0   41.0     38.0     1.0         1.0          HTI       Haiti   \n",
       "\n",
       "       year  US_vote  USA  importantvote country_name fiscal_year  \\\n",
       "64285  1983      1.0  USA              1        Haiti        1983   \n",
       "64286  1983      3.0  USA              1        Haiti        1983   \n",
       "64291  1983      1.0  USA              1        Haiti        1983   \n",
       "64298  1983      3.0  USA              1        Haiti        1983   \n",
       "64304  1983      3.0  USA              1        Haiti        1983   \n",
       "\n",
       "       US-Aid-Const  Align  \n",
       "64285       1545709      1  \n",
       "64286       1545709      1  \n",
       "64291       1545709      1  \n",
       "64298       1545709      0  \n",
       "64304       1545709      0  "
      ]
     },
     "execution_count": 254,
     "metadata": {},
     "output_type": "execute_result"
    }
   ],
   "source": [
    "x = master_votes # to don't touch original dataset\n",
    "x['Align'] = np.where((x['cntry_vote']==x['US_vote']) | (x['cntry_vote']==2) | (x['cntry_vote']==8), 1, 0)\n",
    "x = x.query('importantvote==1')\n",
    "x.head()"
   ]
  },
  {
   "cell_type": "markdown",
   "metadata": {},
   "source": [
    "### Step 5: Aggregation by Year\n",
    "\n",
    "We now need to determine, by year and by country, total alignments, and total aid received. "
   ]
  },
  {
   "cell_type": "code",
   "execution_count": 255,
   "metadata": {},
   "outputs": [
    {
     "data": {
      "text/html": [
       "<div>\n",
       "<style scoped>\n",
       "    .dataframe tbody tr th:only-of-type {\n",
       "        vertical-align: middle;\n",
       "    }\n",
       "\n",
       "    .dataframe tbody tr th {\n",
       "        vertical-align: top;\n",
       "    }\n",
       "\n",
       "    .dataframe thead th {\n",
       "        text-align: right;\n",
       "    }\n",
       "</style>\n",
       "<table border=\"1\" class=\"dataframe\">\n",
       "  <thead>\n",
       "    <tr style=\"text-align: right;\">\n",
       "      <th></th>\n",
       "      <th>Countryname</th>\n",
       "      <th>year</th>\n",
       "      <th>Align</th>\n",
       "      <th>US-Aid-Const</th>\n",
       "    </tr>\n",
       "  </thead>\n",
       "  <tbody>\n",
       "    <tr>\n",
       "      <th>0</th>\n",
       "      <td>Afghanistan</td>\n",
       "      <td>1990.0</td>\n",
       "      <td>5</td>\n",
       "      <td>1865248</td>\n",
       "    </tr>\n",
       "    <tr>\n",
       "      <th>1</th>\n",
       "      <td>Afghanistan</td>\n",
       "      <td>1991.0</td>\n",
       "      <td>6</td>\n",
       "      <td>924130</td>\n",
       "    </tr>\n",
       "    <tr>\n",
       "      <th>2</th>\n",
       "      <td>Afghanistan</td>\n",
       "      <td>1992.0</td>\n",
       "      <td>10</td>\n",
       "      <td>9947856</td>\n",
       "    </tr>\n",
       "    <tr>\n",
       "      <th>3</th>\n",
       "      <td>Afghanistan</td>\n",
       "      <td>1993.0</td>\n",
       "      <td>8</td>\n",
       "      <td>481715</td>\n",
       "    </tr>\n",
       "    <tr>\n",
       "      <th>4</th>\n",
       "      <td>Afghanistan</td>\n",
       "      <td>1994.0</td>\n",
       "      <td>8</td>\n",
       "      <td>543960</td>\n",
       "    </tr>\n",
       "  </tbody>\n",
       "</table>\n",
       "</div>"
      ],
      "text/plain": [
       "   Countryname    year  Align  US-Aid-Const\n",
       "0  Afghanistan  1990.0      5       1865248\n",
       "1  Afghanistan  1991.0      6        924130\n",
       "2  Afghanistan  1992.0     10       9947856\n",
       "3  Afghanistan  1993.0      8        481715\n",
       "4  Afghanistan  1994.0      8        543960"
      ]
     },
     "execution_count": 255,
     "metadata": {},
     "output_type": "execute_result"
    }
   ],
   "source": [
    "align_aid_by_year = x.groupby(['Countryname', 'year']).agg('sum')[[ 'Align', 'US-Aid-Const']].reset_index()\n",
    "align_aid_by_year.head()"
   ]
  },
  {
   "cell_type": "markdown",
   "metadata": {},
   "source": [
    "### Step 6: Aggregation by Country\n",
    "\n",
    "Now aggregate the above dataframe by country, to produce **align_aid_total**"
   ]
  },
  {
   "cell_type": "code",
   "execution_count": 256,
   "metadata": {},
   "outputs": [
    {
     "data": {
      "text/html": [
       "<div>\n",
       "<style scoped>\n",
       "    .dataframe tbody tr th:only-of-type {\n",
       "        vertical-align: middle;\n",
       "    }\n",
       "\n",
       "    .dataframe tbody tr th {\n",
       "        vertical-align: top;\n",
       "    }\n",
       "\n",
       "    .dataframe thead th {\n",
       "        text-align: right;\n",
       "    }\n",
       "</style>\n",
       "<table border=\"1\" class=\"dataframe\">\n",
       "  <thead>\n",
       "    <tr style=\"text-align: right;\">\n",
       "      <th></th>\n",
       "      <th>Countryname</th>\n",
       "      <th>Align</th>\n",
       "      <th>US-Aid-Const</th>\n",
       "    </tr>\n",
       "  </thead>\n",
       "  <tbody>\n",
       "    <tr>\n",
       "      <th>0</th>\n",
       "      <td>Afghanistan</td>\n",
       "      <td>160</td>\n",
       "      <td>7987587106</td>\n",
       "    </tr>\n",
       "    <tr>\n",
       "      <th>1</th>\n",
       "      <td>Albania</td>\n",
       "      <td>276</td>\n",
       "      <td>2638958726</td>\n",
       "    </tr>\n",
       "    <tr>\n",
       "      <th>2</th>\n",
       "      <td>Algeria</td>\n",
       "      <td>148</td>\n",
       "      <td>656221940</td>\n",
       "    </tr>\n",
       "    <tr>\n",
       "      <th>3</th>\n",
       "      <td>Angola</td>\n",
       "      <td>193</td>\n",
       "      <td>3809051617</td>\n",
       "    </tr>\n",
       "    <tr>\n",
       "      <th>4</th>\n",
       "      <td>Antigua and Barbuda</td>\n",
       "      <td>244</td>\n",
       "      <td>138297727</td>\n",
       "    </tr>\n",
       "  </tbody>\n",
       "</table>\n",
       "</div>"
      ],
      "text/plain": [
       "           Countryname  Align  US-Aid-Const\n",
       "0          Afghanistan    160    7987587106\n",
       "1              Albania    276    2638958726\n",
       "2              Algeria    148     656221940\n",
       "3               Angola    193    3809051617\n",
       "4  Antigua and Barbuda    244     138297727"
      ]
     },
     "execution_count": 256,
     "metadata": {},
     "output_type": "execute_result"
    }
   ],
   "source": [
    "align_aid_total = align_aid_by_year.groupby(['Countryname']).agg('sum')[[ 'Align', 'US-Aid-Const']].reset_index()\n",
    "align_aid_total.head()"
   ]
  },
  {
   "cell_type": "markdown",
   "metadata": {},
   "source": [
    "### Step 7: Aggregation by Year\n",
    "\n",
    "Now also aggregate by year, to produce **align_aid_historical**\n"
   ]
  },
  {
   "cell_type": "code",
   "execution_count": 257,
   "metadata": {},
   "outputs": [],
   "source": [
    "align_aid_historical = align_aid_by_year.groupby('year').agg('sum')[[ 'Align', 'US-Aid-Const']].reset_index()"
   ]
  },
  {
   "cell_type": "markdown",
   "metadata": {},
   "source": [
    "## Various Structural Modeling \n",
    "\n",
    "This section discussed various methods/approaches to tackling the research question of potential relationship(s) and causality between aid received, and pro-US alignment in the UNGA. This section is an exploratory data analysis that will hopefully produce a fair and unbiased structural model of the data that can then be appropriately processed. \n",
    "\n",
    "### Exhibit 1\n",
    "\n",
    "The simplest view of our data is to graph aid and alignment over time:"
   ]
  },
  {
   "cell_type": "code",
   "execution_count": 258,
   "metadata": {},
   "outputs": [
    {
     "data": {
      "image/png": "[encoded data removed]",
      "text/plain": [
       "<Figure size 432x288 with 2 Axes>"
      ]
     },
     "metadata": {},
     "output_type": "display_data"
    }
   ],
   "source": [
    "y1, y2 = align_aid_historical['US-Aid-Const'],  align_aid_historical['Align']\n",
    "x = align_aid_historical['year']\n",
    "fig, ax = plt.subplots()\n",
    "ax.plot(x,y1,color='r',label='Total Worldwide Aid')\n",
    "ax.set_ylabel('US Aid Dispersed')\n",
    "ax2 = ax.twinx()\n",
    "ax2.plot(x,y2,color='b',label='Total Worldwide Alignment')\n",
    "ax2.set_ylabel('Total Alignment Votes')\n",
    "ax.legend(loc='upper left')\n",
    "ax2.legend(loc='upper right')\n",
    "plt.title('Total Worlwide Aid & Alignment By Year')\n",
    "ax.set_xlabel('Year')\n",
    "plt.show()"
   ]
  },
  {
   "cell_type": "markdown",
   "metadata": {},
   "source": [
    "There are some important we observations we can make from the above graph: \n",
    "1. If the causality thesis were to hold, visually one might like to see the blue line succeed the red line -- that is alignment lags aid. Perhaps that is indeed the case here, as we see a sharp spike in US foreign aid ca. 2000. Shortly after, the downtrend in alignment from 1990-2000 is reversed and an uptrend begins. So perhaps this is indeed the case...\n",
    "2. But...that huge spike in US foreign aid ca. 2000 *itself* is problematic? Why? Because that spike is attributed to renewed US involvement in the Middle East with wars in Afghanistan and Iraq. In fact, the magnitude of this spike can be clearly shown if we zoom out to 1946-2017 time window, which is done by including non-important votes into the dataset. To do this, we recreate the Data Preparation steps above to include non-important votes. This is done below: "
   ]
  },
  {
   "cell_type": "code",
   "execution_count": 259,
   "metadata": {},
   "outputs": [
    {
     "data": {
      "image/png": "[encoded data removed]",
      "text/plain": [
       "<Figure size 432x288 with 2 Axes>"
      ]
     },
     "metadata": {},
     "output_type": "display_data"
    }
   ],
   "source": [
    "%matplotlib inline\n",
    "x = master_votes\n",
    "align_aid_by_year_all = x.groupby(['Countryname', 'year']).agg('sum')[[ 'Align', 'US-Aid-Const']].reset_index()\n",
    "align_aid_total_all = align_aid_by_year_all.groupby(['Countryname']).agg('sum')[[ 'Align', 'US-Aid-Const']].reset_index()\n",
    "align_aid_historical_all = align_aid_by_year_all.groupby('year').agg('sum')[[ 'Align', 'US-Aid-Const']].reset_index()\n",
    "\n",
    "\n",
    "\n",
    "y1, y2 = align_aid_historical_all['US-Aid-Const'],  align_aid_historical_all['Align']\n",
    "x = align_aid_historical_all['year']\n",
    "fig, ax = plt.subplots()\n",
    "ax.plot(x,y1,color='r',label='Total Worldwide Aid')\n",
    "ax.set_ylabel('US Aid Dispersed')\n",
    "ax2 = ax.twinx()\n",
    "ax2.plot(x,y2,color='b',label='Total Worldwide Alignment')\n",
    "ax2.set_ylabel('Total Alignment Votes')\n",
    "ax.legend(loc='upper left')\n",
    "ax2.legend(loc='upper right')\n",
    "plt.title('Total Worlwide Aid & Alignment By Year (Including Non-Important Votes)')\n",
    "ax.set_xlabel('Year')\n",
    "plt.show()"
   ]
  },
  {
   "cell_type": "markdown",
   "metadata": {},
   "source": [
    "Clearly, that jump in worlwide US foreign aid ca. 2000 is astonishing! This points to an underlying issue with **bias** in our dataset and relationships between the data. There are \"hidden\" historical-socio-geo-political-ethnographic factors that account for aid and alignment. That is, we must consider the data on a country-by-country basis. What is the country is war torn? In a drought? Has political unrest or culturally different from the US? What about the pre-existing global alliances? NATO will vote for NATO. Will the former Soviet bloc side with the western world and the United States, or will biased grudges still hold? All these issues are potential biases that can account for varying levels of alignment -- as a result with this biased dataset, one cannot safely say foreign aid *alone* can yield increased / decreased pro-US alignment.  \n",
    "\n",
    "### Exhibit 2\n",
    "\n",
    "As a result of the above considerations, let's switch models and explore the data on a country-by-country level. First, however, we need to append two new columns to our dataframes. Instead of dealing in absolute alignment numbers, it is more appropriate to deal with percentage alignment with the United States (i.e. an alignment of 50 might seem low, but it might actually correspond to a high alignment-percentage). \n",
    "\n",
    "We compute the alignment percentage (for important vote) by dividing total alignment values by the total important US voting instances. "
   ]
  },
  {
   "cell_type": "code",
   "execution_count": 260,
   "metadata": {},
   "outputs": [],
   "source": [
    "align_aid_total['Imp_Align_Percentage'] = (align_aid_total['Align']/total_us_important_votes)*100"
   ]
  },
  {
   "cell_type": "code",
   "execution_count": 261,
   "metadata": {},
   "outputs": [
    {
     "data": {
      "text/html": [
       "<div>\n",
       "<style scoped>\n",
       "    .dataframe tbody tr th:only-of-type {\n",
       "        vertical-align: middle;\n",
       "    }\n",
       "\n",
       "    .dataframe tbody tr th {\n",
       "        vertical-align: top;\n",
       "    }\n",
       "\n",
       "    .dataframe thead th {\n",
       "        text-align: right;\n",
       "    }\n",
       "</style>\n",
       "<table border=\"1\" class=\"dataframe\">\n",
       "  <thead>\n",
       "    <tr style=\"text-align: right;\">\n",
       "      <th></th>\n",
       "      <th>Countryname</th>\n",
       "      <th>Align</th>\n",
       "      <th>US-Aid-Const</th>\n",
       "      <th>Imp_Align_Percentage</th>\n",
       "    </tr>\n",
       "  </thead>\n",
       "  <tbody>\n",
       "    <tr>\n",
       "      <th>0</th>\n",
       "      <td>Afghanistan</td>\n",
       "      <td>160</td>\n",
       "      <td>7987587106</td>\n",
       "      <td>38.929440</td>\n",
       "    </tr>\n",
       "    <tr>\n",
       "      <th>1</th>\n",
       "      <td>Albania</td>\n",
       "      <td>276</td>\n",
       "      <td>2638958726</td>\n",
       "      <td>67.153285</td>\n",
       "    </tr>\n",
       "    <tr>\n",
       "      <th>2</th>\n",
       "      <td>Algeria</td>\n",
       "      <td>148</td>\n",
       "      <td>656221940</td>\n",
       "      <td>36.009732</td>\n",
       "    </tr>\n",
       "    <tr>\n",
       "      <th>3</th>\n",
       "      <td>Angola</td>\n",
       "      <td>193</td>\n",
       "      <td>3809051617</td>\n",
       "      <td>46.958637</td>\n",
       "    </tr>\n",
       "    <tr>\n",
       "      <th>4</th>\n",
       "      <td>Antigua and Barbuda</td>\n",
       "      <td>244</td>\n",
       "      <td>138297727</td>\n",
       "      <td>59.367397</td>\n",
       "    </tr>\n",
       "  </tbody>\n",
       "</table>\n",
       "</div>"
      ],
      "text/plain": [
       "           Countryname  Align  US-Aid-Const  Imp_Align_Percentage\n",
       "0          Afghanistan    160    7987587106             38.929440\n",
       "1              Albania    276    2638958726             67.153285\n",
       "2              Algeria    148     656221940             36.009732\n",
       "3               Angola    193    3809051617             46.958637\n",
       "4  Antigua and Barbuda    244     138297727             59.367397"
      ]
     },
     "execution_count": 261,
     "metadata": {},
     "output_type": "execute_result"
    }
   ],
   "source": [
    "align_aid_total.head(5)"
   ]
  },
  {
   "cell_type": "markdown",
   "metadata": {},
   "source": [
    "Let's plot the data above as a scatter plot. We will be using the *seaborn* library (https://seaborn.pydata.org) for plotting due to its ease of use in clustering, doing regression plots, etc. "
   ]
  },
  {
   "cell_type": "code",
   "execution_count": 263,
   "metadata": {},
   "outputs": [
    {
     "data": {
      "image/png": "[encoded data removed]",
      "text/plain": [
       "<Figure size 360x360 with 1 Axes>"
      ]
     },
     "metadata": {},
     "output_type": "display_data"
    }
   ],
   "source": [
    "\n",
    "p1 = sns.lmplot( x=\"US-Aid-Const\", y=\"Imp_Align_Percentage\", data=align_aid_total, fit_reg=False,  legend=True) "
   ]
  },
  {
   "cell_type": "markdown",
   "metadata": {},
   "source": [
    "We see perhaps that there is some sort of positive power/logarthimic relationship between aid dispersed and alignment percentage. Let us actually try and model the data as a logarthmic function using python's `scipy.optimize.curve_fit()` functionality. The below code is adapted from the documentation @ https://docs.scipy.org/doc/scipy/reference/generated/scipy.optimize.curve_fit.html. "
   ]
  },
  {
   "cell_type": "code",
   "execution_count": 264,
   "metadata": {},
   "outputs": [
    {
     "name": "stderr",
     "output_type": "stream",
     "text": [
      "/Users/rahulbirmiwal/miniconda3/lib/python3.6/site-packages/ipykernel_launcher.py:7: RuntimeWarning: invalid value encountered in log\n",
      "  import sys\n"
     ]
    },
    {
     "data": {
      "text/plain": [
       "<matplotlib.collections.PathCollection at 0x145e3d9b0>"
      ]
     },
     "execution_count": 264,
     "metadata": {},
     "output_type": "execute_result"
    },
    {
     "data": {
      "image/png": "[encoded data removed]",
      "text/plain": [
       "<Figure size 432x288 with 1 Axes>"
      ]
     },
     "metadata": {},
     "output_type": "display_data"
    }
   ],
   "source": [
    "from scipy.optimize import curve_fit\n",
    "\n",
    "x, y = align_aid_total['US-Aid-Const'], align_aid_total['Imp_Align_Percentage']\n",
    "\n",
    "plt.figure()\n",
    "def l( x, a, b, c, d ):\n",
    "    return a*np.log( b*x + c ) + d\n",
    "\n",
    "popt, pcov = curve_fit(l, x, y)\n",
    "plt.scatter(x, l(x, *popt))\n",
    "plt.scatter(x,y)\n"
   ]
  },
  {
   "cell_type": "markdown",
   "metadata": {},
   "source": [
    "Let us compute the coefficient of determination R^2 for the above non-linear regression fit. "
   ]
  },
  {
   "cell_type": "code",
   "execution_count": 265,
   "metadata": {},
   "outputs": [
    {
     "name": "stdout",
     "output_type": "stream",
     "text": [
      "0.22083851877295313\n"
     ]
    }
   ],
   "source": [
    "\n",
    "# https://stackoverflow.com/questions/18767523/fitting-data-with-numpy\n",
    "residuals = y- l(x, *popt)\n",
    "ss_res = np.sum(residuals**2)\n",
    "ss_tot = np.sum((y-np.mean(y))**2)\n",
    "r_squared = 1 - (ss_res / ss_tot)\n",
    "print(r_squared)\n",
    "\n"
   ]
  },
  {
   "cell_type": "markdown",
   "metadata": {},
   "source": [
    "Although 22% technically isn't great, it is much better than an OLS model fitted with intercept (as we assume an aid-received of zero should not correspond to a 0% alignment percentage). We fit a model below using `statsmodels.api` @ (https://www.statsmodels.org/stable/index.html. And then plot using seaborn. This version has an R^2 of only ~4%. "
   ]
  },
  {
   "cell_type": "code",
   "execution_count": 266,
   "metadata": {},
   "outputs": [
    {
     "data": {
      "text/html": [
       "<table class=\"simpletable\">\n",
       "<caption>OLS Regression Results</caption>\n",
       "<tr>\n",
       "  <th>Dep. Variable:</th>    <td>Imp_Align_Percentage</td> <th>  R-squared:         </th> <td>   0.044</td>\n",
       "</tr>\n",
       "<tr>\n",
       "  <th>Model:</th>                     <td>OLS</td>         <th>  Adj. R-squared:    </th> <td>   0.038</td>\n",
       "</tr>\n",
       "<tr>\n",
       "  <th>Method:</th>               <td>Least Squares</td>    <th>  F-statistic:       </th> <td>   7.182</td>\n",
       "</tr>\n",
       "<tr>\n",
       "  <th>Date:</th>               <td>Mon, 10 Dec 2018</td>   <th>  Prob (F-statistic):</th>  <td>0.00815</td>\n",
       "</tr>\n",
       "<tr>\n",
       "  <th>Time:</th>                   <td>04:45:54</td>       <th>  Log-Likelihood:    </th> <td> -661.67</td>\n",
       "</tr>\n",
       "<tr>\n",
       "  <th>No. Observations:</th>        <td>   159</td>        <th>  AIC:               </th> <td>   1327.</td>\n",
       "</tr>\n",
       "<tr>\n",
       "  <th>Df Residuals:</th>            <td>   157</td>        <th>  BIC:               </th> <td>   1333.</td>\n",
       "</tr>\n",
       "<tr>\n",
       "  <th>Df Model:</th>                <td>     1</td>        <th>                     </th>     <td> </td>   \n",
       "</tr>\n",
       "<tr>\n",
       "  <th>Covariance Type:</th>        <td>nonrobust</td>      <th>                     </th>     <td> </td>   \n",
       "</tr>\n",
       "</table>\n",
       "<table class=\"simpletable\">\n",
       "<tr>\n",
       "        <td></td>          <th>coef</th>     <th>std err</th>      <th>t</th>      <th>P>|t|</th>  <th>[0.025</th>    <th>0.975]</th>  \n",
       "</tr>\n",
       "<tr>\n",
       "  <th>const</th>        <td>   44.0513</td> <td>    1.622</td> <td>   27.159</td> <td> 0.000</td> <td>   40.848</td> <td>   47.255</td>\n",
       "</tr>\n",
       "<tr>\n",
       "  <th>US-Aid-Const</th> <td> 1.229e-09</td> <td> 4.58e-10</td> <td>    2.680</td> <td> 0.008</td> <td> 3.23e-10</td> <td> 2.13e-09</td>\n",
       "</tr>\n",
       "</table>\n",
       "<table class=\"simpletable\">\n",
       "<tr>\n",
       "  <th>Omnibus:</th>       <td> 2.736</td> <th>  Durbin-Watson:     </th> <td>   1.904</td>\n",
       "</tr>\n",
       "<tr>\n",
       "  <th>Prob(Omnibus):</th> <td> 0.255</td> <th>  Jarque-Bera (JB):  </th> <td>   2.194</td>\n",
       "</tr>\n",
       "<tr>\n",
       "  <th>Skew:</th>          <td>-0.153</td> <th>  Prob(JB):          </th> <td>   0.334</td>\n",
       "</tr>\n",
       "<tr>\n",
       "  <th>Kurtosis:</th>      <td> 2.512</td> <th>  Cond. No.          </th> <td>4.63e+09</td>\n",
       "</tr>\n",
       "</table>"
      ],
      "text/plain": [
       "<class 'statsmodels.iolib.summary.Summary'>\n",
       "\"\"\"\n",
       "                             OLS Regression Results                             \n",
       "================================================================================\n",
       "Dep. Variable:     Imp_Align_Percentage   R-squared:                       0.044\n",
       "Model:                              OLS   Adj. R-squared:                  0.038\n",
       "Method:                   Least Squares   F-statistic:                     7.182\n",
       "Date:                  Mon, 10 Dec 2018   Prob (F-statistic):            0.00815\n",
       "Time:                          04:45:54   Log-Likelihood:                -661.67\n",
       "No. Observations:                   159   AIC:                             1327.\n",
       "Df Residuals:                       157   BIC:                             1333.\n",
       "Df Model:                             1                                         \n",
       "Covariance Type:              nonrobust                                         \n",
       "================================================================================\n",
       "                   coef    std err          t      P>|t|      [0.025      0.975]\n",
       "--------------------------------------------------------------------------------\n",
       "const           44.0513      1.622     27.159      0.000      40.848      47.255\n",
       "US-Aid-Const  1.229e-09   4.58e-10      2.680      0.008    3.23e-10    2.13e-09\n",
       "==============================================================================\n",
       "Omnibus:                        2.736   Durbin-Watson:                   1.904\n",
       "Prob(Omnibus):                  0.255   Jarque-Bera (JB):                2.194\n",
       "Skew:                          -0.153   Prob(JB):                        0.334\n",
       "Kurtosis:                       2.512   Cond. No.                     4.63e+09\n",
       "==============================================================================\n",
       "\n",
       "Warnings:\n",
       "[1] Standard Errors assume that the covariance matrix of the errors is correctly specified.\n",
       "[2] The condition number is large, 4.63e+09. This might indicate that there are\n",
       "strong multicollinearity or other numerical problems.\n",
       "\"\"\""
      ]
     },
     "execution_count": 266,
     "metadata": {},
     "output_type": "execute_result"
    }
   ],
   "source": [
    "import statsmodels.api as sm\n",
    "\n",
    "# add constant and fit\n",
    "x = sm.add_constant(x)\n",
    "model = sm.OLS(y, x).fit()\n",
    "\n",
    "# Print out the statistics\n",
    "model.summary()"
   ]
  },
  {
   "cell_type": "code",
   "execution_count": 267,
   "metadata": {},
   "outputs": [
    {
     "name": "stderr",
     "output_type": "stream",
     "text": [
      "/Users/rahulbirmiwal/miniconda3/lib/python3.6/site-packages/scipy/stats/stats.py:1706: FutureWarning: Using a non-tuple sequence for multidimensional indexing is deprecated; use `arr[tuple(seq)]` instead of `arr[seq]`. In the future this will be interpreted as an array index, `arr[np.array(seq)]`, which will result either in an error or a different result.\n",
      "  return np.add.reduce(sorted[indexer] * weights, axis=axis) / sumval\n"
     ]
    },
    {
     "data": {
      "image/png": "[encoded data removed]",
      "text/plain": [
       "<Figure size 360x360 with 1 Axes>"
      ]
     },
     "metadata": {},
     "output_type": "display_data"
    }
   ],
   "source": [
    "p1 = sns.lmplot( x=\"US-Aid-Const\", y=\"Imp_Align_Percentage\", data=align_aid_total, fit_reg=True,  legend=True)"
   ]
  },
  {
   "cell_type": "markdown",
   "metadata": {},
   "source": [
    "The conclusion of Exhibit 2 is that there does exist a positive correlation between aid received, and alignment percentage. We see that perhaps there is some positive nonlinear relationship between aid and alignment. However once again we see a large cluster of countries who receive very little aid, but whose alignment percentages vary **widely**. \n",
    "\n",
    "In fact once again this structural model of the data is dotted with hidden bias. If we cluster the scatter plot by income group, we will see below that such positive relationship is highly correlated with income (i.e. a high-income country is unlikely to recieve large US aid in the first place...). Furthermore in fact if one were to examine this high-income region, we would see that the countries with low alignment percentage are Middle Eastern/North African countries such as Saudi Arabia, Yemen; those with high alignment percentage are clearly US allies such as Australia and Isreal. "
   ]
  },
  {
   "cell_type": "code",
   "execution_count": 268,
   "metadata": {},
   "outputs": [
    {
     "data": {
      "text/plain": [
       "<seaborn.axisgrid.FacetGrid at 0x145f63e10>"
      ]
     },
     "execution_count": 268,
     "metadata": {},
     "output_type": "execute_result"
    },
    {
     "data": {
      "text/plain": [
       "<Figure size 432x288 with 0 Axes>"
      ]
     },
     "metadata": {},
     "output_type": "display_data"
    },
    {
     "data": {
      "image/png": "[encoded data removed]",
      "text/plain": [
       "<Figure size 544.75x360 with 1 Axes>"
      ]
     },
     "metadata": {},
     "output_type": "display_data"
    }
   ],
   "source": [
    "%matplotlib inline \n",
    "plt.figure()\n",
    "R = align_aid_total.merge(country_info_df, left_on='Countryname', right_on='country_name').sort_values(by='income_group_name')\n",
    "color_scheme = ['#031143', '#8A8697', '#9382CC', '#091C5F']\n",
    "sns.set_palette(palette=color_scheme)\n",
    "sns.lmplot( x=\"US-Aid-Const\", y=\"Imp_Align_Percentage\", data=R, fit_reg=False, \\\n",
    "           hue='income_group_name',  legend=True)\n",
    "\n"
   ]
  },
  {
   "cell_type": "markdown",
   "metadata": {},
   "source": [
    "The conclusion is that we need a slightly different model to remove this bias. \n",
    "\n",
    "### Exhibit 3\n",
    "\n",
    "**Removing Bias** \n",
    "\n",
    "One method for removing bias is to \"condition on it.\" Akin to setting up control groups in a scientific experiment, conditioning on the right variables will normalize \"domains\" of the dataset such that they can be appropriately compared and contrasted. A very good write-up regarding bias in data science can be read @ https://medium.com/causal-data-science/understanding-bias-a-pre-requisite-for-trustworthy-results-ee590b75b1be. \n",
    "\n",
    "There is an infinite number of potential historical-socio-geo-political-ethnographic biases that could be accounted for. For the scope of this project, it is impossible to account/control for all of these. For the sake of this analysis we assume that income-group and sub-region (geographic location) is a suitable, best-effort generalized proxy for all these externalities. Perhaps this is a naive assumption, and if there was more time allocated for this work, we could join in numerous other external datasets to better condition on. However, for now, this assumption will have to suffice. \n",
    "\n",
    "We perform the conditoning by grouping-by countries by income group, then do a secondary grouping-by on region-name. We do this by year, such that we have a dataset where we have, for each year, the average alignment number and average aid received for that income-region cluster. "
   ]
  },
  {
   "cell_type": "code",
   "execution_count": 269,
   "metadata": {},
   "outputs": [],
   "source": [
    "W = align_aid_by_year.merge(country_info_df,how='inner',left_on='Countryname',right_on='country_name')\n",
    "by_inc_reg = W.groupby(['year','income_group_name','region_name']).agg('mean')[['Align', 'US-Aid-Const']].reset_index()\n",
    "\n",
    "high_inc = by_inc_reg[by_inc_reg['income_group_name']=='High Income Country']\n",
    "med_inc = by_inc_reg[by_inc_reg['income_group_name']=='Upper Middle Income Country']\n",
    "low_inc = by_inc_reg[by_inc_reg['income_group_name']=='Lower Middle Income Country']\n",
    "bad_inc = by_inc_reg[by_inc_reg['income_group_name']=='Low Income Country']\n",
    "\n",
    "\n"
   ]
  },
  {
   "cell_type": "code",
   "execution_count": 270,
   "metadata": {},
   "outputs": [],
   "source": [
    "\n",
    "high_inc_EO = high_inc[high_inc['region_name']=='East Asia and Oceania']\n",
    "high_inc_SSA = high_inc[high_inc['region_name']=='Sub-Saharan Africa']\n",
    "high_inc_MeNA = high_inc[high_inc['region_name']=='Middle East and North Africa']\n",
    "high_inc_WH = high_inc[high_inc['region_name']=='Western Hemisphere']"
   ]
  },
  {
   "cell_type": "code",
   "execution_count": 271,
   "metadata": {},
   "outputs": [],
   "source": [
    "\n",
    "low_inc_EO = low_inc[low_inc['region_name']=='East Asia and Oceania']\n",
    "low_inc_SSA = low_inc[low_inc['region_name']=='Sub-Saharan Africa']\n",
    "low_inc_MeNA = low_inc[low_inc['region_name']=='Middle East and North Africa']\n",
    "low_inc_WH = low_inc[low_inc['region_name']=='Western Hemisphere']"
   ]
  },
  {
   "cell_type": "code",
   "execution_count": 272,
   "metadata": {},
   "outputs": [],
   "source": [
    "\n",
    "med_inc_EO = med_inc[med_inc['region_name']=='East Asia and Oceania']\n",
    "med_inc_SSA = med_inc[med_inc['region_name']=='Sub-Saharan Africa']\n",
    "med_inc_MeNA = med_inc[med_inc['region_name']=='Middle East and North Africa']\n",
    "med_inc_WH = med_inc[med_inc['region_name']=='Western Hemisphere']"
   ]
  },
  {
   "cell_type": "code",
   "execution_count": 273,
   "metadata": {},
   "outputs": [],
   "source": [
    "\n",
    "bad_inc_EO = bad_inc[bad_inc['region_name']=='East Asia and Oceania']\n",
    "bad_inc_SSA = bad_inc[bad_inc['region_name']=='Sub-Saharan Africa']\n",
    "bad_inc_MeNA = bad_inc[bad_inc['region_name']=='Middle East and North Africa']\n",
    "bad_inc_WH = bad_inc[bad_inc['region_name']=='Western Hemisphere']"
   ]
  },
  {
   "cell_type": "code",
   "execution_count": 274,
   "metadata": {},
   "outputs": [
    {
     "data": {
      "text/html": [
       "<div>\n",
       "<style scoped>\n",
       "    .dataframe tbody tr th:only-of-type {\n",
       "        vertical-align: middle;\n",
       "    }\n",
       "\n",
       "    .dataframe tbody tr th {\n",
       "        vertical-align: top;\n",
       "    }\n",
       "\n",
       "    .dataframe thead th {\n",
       "        text-align: right;\n",
       "    }\n",
       "</style>\n",
       "<table border=\"1\" class=\"dataframe\">\n",
       "  <thead>\n",
       "    <tr style=\"text-align: right;\">\n",
       "      <th></th>\n",
       "      <th>year</th>\n",
       "      <th>income_group_name</th>\n",
       "      <th>region_name</th>\n",
       "      <th>Align</th>\n",
       "      <th>US-Aid-Const</th>\n",
       "    </tr>\n",
       "  </thead>\n",
       "  <tbody>\n",
       "    <tr>\n",
       "      <th>6</th>\n",
       "      <td>1983.0</td>\n",
       "      <td>Low Income Country</td>\n",
       "      <td>Sub-Saharan Africa</td>\n",
       "      <td>4.375000</td>\n",
       "      <td>3.436648e+06</td>\n",
       "    </tr>\n",
       "    <tr>\n",
       "      <th>23</th>\n",
       "      <td>1984.0</td>\n",
       "      <td>Low Income Country</td>\n",
       "      <td>Sub-Saharan Africa</td>\n",
       "      <td>3.250000</td>\n",
       "      <td>2.299637e+06</td>\n",
       "    </tr>\n",
       "    <tr>\n",
       "      <th>42</th>\n",
       "      <td>1985.0</td>\n",
       "      <td>Low Income Country</td>\n",
       "      <td>Sub-Saharan Africa</td>\n",
       "      <td>5.428571</td>\n",
       "      <td>2.823272e+06</td>\n",
       "    </tr>\n",
       "    <tr>\n",
       "      <th>57</th>\n",
       "      <td>1986.0</td>\n",
       "      <td>Low Income Country</td>\n",
       "      <td>Sub-Saharan Africa</td>\n",
       "      <td>4.666667</td>\n",
       "      <td>5.740629e+06</td>\n",
       "    </tr>\n",
       "    <tr>\n",
       "      <th>73</th>\n",
       "      <td>1987.0</td>\n",
       "      <td>Low Income Country</td>\n",
       "      <td>Sub-Saharan Africa</td>\n",
       "      <td>5.500000</td>\n",
       "      <td>4.019077e+06</td>\n",
       "    </tr>\n",
       "  </tbody>\n",
       "</table>\n",
       "</div>"
      ],
      "text/plain": [
       "      year   income_group_name         region_name     Align  US-Aid-Const\n",
       "6   1983.0  Low Income Country  Sub-Saharan Africa  4.375000  3.436648e+06\n",
       "23  1984.0  Low Income Country  Sub-Saharan Africa  3.250000  2.299637e+06\n",
       "42  1985.0  Low Income Country  Sub-Saharan Africa  5.428571  2.823272e+06\n",
       "57  1986.0  Low Income Country  Sub-Saharan Africa  4.666667  5.740629e+06\n",
       "73  1987.0  Low Income Country  Sub-Saharan Africa  5.500000  4.019077e+06"
      ]
     },
     "execution_count": 274,
     "metadata": {},
     "output_type": "execute_result"
    }
   ],
   "source": [
    "bad_inc_SSA.head()"
   ]
  },
  {
   "cell_type": "markdown",
   "metadata": {},
   "source": [
    "With these 16 datasets that are now hopefully at little less biased, we now seek to examine our research question regarding causalitty. We now plot, for each income group, the alignment and aid, vs. year, for each sub-region. The goal here is to determine if alignment *lags* aid. \n",
    "\n",
    "The following code snippet is used to generate a graph of income group given region . Here we show for example graphing alignment and aid, vs year, for the low income group in the western hemisphere. "
   ]
  },
  {
   "cell_type": "markdown",
   "metadata": {},
   "source": [
    "### High Income Region"
   ]
  },
  {
   "cell_type": "code",
   "execution_count": 275,
   "metadata": {},
   "outputs": [
    {
     "name": "stderr",
     "output_type": "stream",
     "text": [
      "No handles with labels found to put in legend.\n",
      "No handles with labels found to put in legend.\n",
      "No handles with labels found to put in legend.\n",
      "No handles with labels found to put in legend.\n"
     ]
    },
    {
     "data": {
      "image/png": "[encoded data removed]",
      "text/plain": [
       "<Figure size 1296x288 with 8 Axes>"
      ]
     },
     "metadata": {},
     "output_type": "display_data"
    }
   ],
   "source": [
    "%matplotlib inline\n",
    "fig, axarr= plt.subplots(1,4)\n",
    "fig.set_size_inches(18, 4)\n",
    "axarr[0].set_title(\" Western Hemisphere\")\n",
    "x,y,z = high_inc_WH['year'], high_inc_WH['Align'], high_inc_WH['US-Aid-Const']\n",
    "axarr[0].plot(x,y ,label='Alignment',color='b')\n",
    "axarr[0].legend(loc='upper left')\n",
    "ax2 = axarr[0].twinx()\n",
    "ax2.legend(loc='upper right')\n",
    "ax2.plot(x, z, label='Aid', color='r')\n",
    "\n",
    "axarr[1].set_title(\" East Asia & Oceania\")\n",
    "x,y,z = high_inc_EO['year'], high_inc_EO['Align'], high_inc_EO['US-Aid-Const']\n",
    "axarr[1].plot(x,y ,label='Alignment',color='b')\n",
    "axarr[1].legend(loc='upper left')\n",
    "ax2 = axarr[1].twinx()\n",
    "ax2.legend(loc='upper right')\n",
    "ax2.plot(x, z, label='Aid', color='r')\n",
    "\n",
    "axarr[2].set_title(\"Middle East North Africa\")\n",
    "x,y,z = high_inc_MeNA['year'], high_inc_MeNA['Align'], high_inc_MeNA['US-Aid-Const']\n",
    "axarr[2].plot(x,y ,label='Alignment',color='b')\n",
    "axarr[2].legend(loc='upper left')\n",
    "ax2 = axarr[2].twinx()\n",
    "ax2.legend(loc='upper right')\n",
    "ax2.plot(x, z, label='Aid', color='r')\n",
    "\n",
    "axarr[3].set_title(\"Sub-Saharan Africa\")\n",
    "x,y,z = high_inc_SSA['year'], high_inc_SSA['Align'], high_inc_SSA['US-Aid-Const']\n",
    "axarr[3].plot(x,y ,label='Alignment',color='b')\n",
    "axarr[3].legend(loc='upper left')\n",
    "ax2 = axarr[3].twinx()\n",
    "ax2.legend(loc='upper right')\n",
    "ax2.plot(x, z, label='Aid', color='r')\n",
    "\n",
    "\n",
    "plt.show()"
   ]
  },
  {
   "cell_type": "markdown",
   "metadata": {},
   "source": [
    "### Upper Middle Income Region"
   ]
  },
  {
   "cell_type": "code",
   "execution_count": 276,
   "metadata": {},
   "outputs": [
    {
     "name": "stderr",
     "output_type": "stream",
     "text": [
      "No handles with labels found to put in legend.\n",
      "No handles with labels found to put in legend.\n",
      "No handles with labels found to put in legend.\n",
      "No handles with labels found to put in legend.\n"
     ]
    },
    {
     "data": {
      "image/png": "[encoded data removed]",
      "text/plain": [
       "<Figure size 1296x288 with 8 Axes>"
      ]
     },
     "metadata": {},
     "output_type": "display_data"
    }
   ],
   "source": [
    "%matplotlib inline\n",
    "fig, axarr= plt.subplots(1,4)\n",
    "fig.set_size_inches(18, 4)\n",
    "axarr[0].set_title(\" Western Hemisphere\")\n",
    "x,y,z = med_inc_WH['year'], med_inc_WH['Align'], med_inc_WH['US-Aid-Const']\n",
    "axarr[0].plot(x,y ,label='Alignment',color='b')\n",
    "axarr[0].legend(loc='upper left')\n",
    "ax2 = axarr[0].twinx()\n",
    "ax2.legend(loc='upper right')\n",
    "ax2.plot(x, z, label='Aid', color='r')\n",
    "\n",
    "axarr[1].set_title(\" East Asia & Oceania\")\n",
    "x,y,z = med_inc_EO['year'], med_inc_EO['Align'], med_inc_EO['US-Aid-Const']\n",
    "axarr[1].plot(x,y ,label='Alignment',color='b')\n",
    "axarr[1].legend(loc='upper left')\n",
    "ax2 = axarr[1].twinx()\n",
    "ax2.legend(loc='upper right')\n",
    "ax2.plot(x, z, label='Aid', color='r')\n",
    "\n",
    "axarr[2].set_title(\"Middle East North Africa\")\n",
    "x,y,z = med_inc_MeNA['year'], med_inc_MeNA['Align'], med_inc_MeNA['US-Aid-Const']\n",
    "axarr[2].plot(x,y ,label='Alignment',color='b')\n",
    "axarr[2].legend(loc='upper left')\n",
    "ax2 = axarr[2].twinx()\n",
    "ax2.legend(loc='upper right')\n",
    "ax2.plot(x, z, label='Aid', color='r')\n",
    "\n",
    "axarr[3].set_title(\"Sub-Saharan Africa\")\n",
    "x,y,z = med_inc_SSA['year'], med_inc_SSA['Align'], med_inc_SSA['US-Aid-Const']\n",
    "axarr[3].plot(x,y ,label='Alignment',color='b')\n",
    "axarr[3].legend(loc='upper left')\n",
    "ax2 = axarr[3].twinx()\n",
    "ax2.legend(loc='upper right')\n",
    "ax2.plot(x, z, label='Aid', color='r')\n",
    "\n",
    "\n",
    "plt.show()"
   ]
  },
  {
   "cell_type": "markdown",
   "metadata": {},
   "source": [
    "### Low Middle Income Region"
   ]
  },
  {
   "cell_type": "code",
   "execution_count": 277,
   "metadata": {},
   "outputs": [
    {
     "name": "stderr",
     "output_type": "stream",
     "text": [
      "No handles with labels found to put in legend.\n",
      "No handles with labels found to put in legend.\n",
      "No handles with labels found to put in legend.\n",
      "No handles with labels found to put in legend.\n"
     ]
    },
    {
     "data": {
      "image/png": "[encoded data removed]",
      "text/plain": [
       "<Figure size 1296x288 with 8 Axes>"
      ]
     },
     "metadata": {},
     "output_type": "display_data"
    }
   ],
   "source": [
    "%matplotlib inline\n",
    "fig, axarr= plt.subplots(1,4)\n",
    "fig.set_size_inches(18, 4)\n",
    "axarr[0].set_title(\" Western Hemisphere\")\n",
    "x,y,z = low_inc_WH['year'], low_inc_WH['Align'], low_inc_WH['US-Aid-Const']\n",
    "axarr[0].plot(x,y ,label='Alignment',color='b')\n",
    "axarr[0].legend(loc='upper left')\n",
    "ax2 = axarr[0].twinx()\n",
    "ax2.legend(loc='upper right')\n",
    "ax2.plot(x, z, label='Aid', color='r')\n",
    "\n",
    "axarr[1].set_title(\" East Asia & Oceania\")\n",
    "x,y,z = low_inc_EO['year'], low_inc_EO['Align'], low_inc_EO['US-Aid-Const']\n",
    "axarr[1].plot(x,y ,label='Alignment',color='b')\n",
    "axarr[1].legend(loc='upper left')\n",
    "ax2 = axarr[1].twinx()\n",
    "ax2.legend(loc='upper right')\n",
    "ax2.plot(x, z, label='Aid', color='r')\n",
    "\n",
    "axarr[2].set_title(\"Middle East North Africa\")\n",
    "x,y,z = low_inc_MeNA['year'], low_inc_MeNA['Align'], low_inc_MeNA['US-Aid-Const']\n",
    "axarr[2].plot(x,y ,label='Alignment',color='b')\n",
    "axarr[2].legend(loc='upper left')\n",
    "ax2 = axarr[2].twinx()\n",
    "ax2.legend(loc='upper right')\n",
    "ax2.plot(x, z, label='Aid', color='r')\n",
    "\n",
    "axarr[3].set_title(\"Sub-Saharan Africa\")\n",
    "x,y,z = low_inc_SSA['year'], low_inc_SSA['Align'], low_inc_SSA['US-Aid-Const']\n",
    "axarr[3].plot(x,y ,label='Alignment',color='b')\n",
    "axarr[3].legend(loc='upper left')\n",
    "ax2 = axarr[3].twinx()\n",
    "ax2.legend(loc='upper right')\n",
    "ax2.plot(x, z, label='Aid', color='r')\n",
    "\n",
    "\n",
    "plt.show()"
   ]
  },
  {
   "cell_type": "markdown",
   "metadata": {},
   "source": [
    "### Worst Income Region"
   ]
  },
  {
   "cell_type": "code",
   "execution_count": 278,
   "metadata": {},
   "outputs": [
    {
     "name": "stderr",
     "output_type": "stream",
     "text": [
      "No handles with labels found to put in legend.\n",
      "No handles with labels found to put in legend.\n",
      "No handles with labels found to put in legend.\n",
      "No handles with labels found to put in legend.\n"
     ]
    },
    {
     "data": {
      "image/png": "[encoded data removed]",
      "text/plain": [
       "<Figure size 1296x288 with 8 Axes>"
      ]
     },
     "metadata": {},
     "output_type": "display_data"
    }
   ],
   "source": [
    "%matplotlib inline\n",
    "fig, axarr= plt.subplots(1,4)\n",
    "fig.set_size_inches(18, 4)\n",
    "axarr[0].set_title(\" Western Hemisphere\")\n",
    "x,y,z = bad_inc_WH['year'], bad_inc_WH['Align'], bad_inc_WH['US-Aid-Const']\n",
    "axarr[0].plot(x,y ,label='Alignment',color='b')\n",
    "axarr[0].legend(loc='upper left')\n",
    "ax2 = axarr[0].twinx()\n",
    "ax2.legend(loc='upper right')\n",
    "ax2.plot(x, z, label='Aid', color='r')\n",
    "\n",
    "axarr[1].set_title(\" East Asia & Oceania\")\n",
    "x,y,z = bad_inc_EO['year'], bad_inc_EO['Align'], bad_inc_EO['US-Aid-Const']\n",
    "axarr[1].plot(x,y ,label='Alignment',color='b')\n",
    "axarr[1].legend(loc='upper left')\n",
    "ax2 = axarr[1].twinx()\n",
    "ax2.legend(loc='upper right')\n",
    "ax2.plot(x, z, label='Aid', color='r')\n",
    "\n",
    "axarr[2].set_title(\"Middle East North Africa\")\n",
    "x,y,z = bad_inc_MeNA['year'], bad_inc_MeNA['Align'], bad_inc_MeNA['US-Aid-Const']\n",
    "axarr[2].plot(x,y ,label='Alignment',color='b')\n",
    "axarr[2].legend(loc='upper left')\n",
    "ax2 = axarr[2].twinx()\n",
    "ax2.legend(loc='upper right')\n",
    "ax2.plot(x, z, label='Aid', color='r')\n",
    "\n",
    "axarr[3].set_title(\"Sub-Saharan Africa\")\n",
    "x,y,z = bad_inc_SSA['year'], bad_inc_SSA['Align'], bad_inc_SSA['US-Aid-Const']\n",
    "axarr[3].plot(x,y ,label='Alignment',color='b')\n",
    "axarr[3].legend(loc='upper left')\n",
    "ax2 = axarr[3].twinx()\n",
    "ax2.legend(loc='upper right')\n",
    "ax2.plot(x, z, label='Aid', color='r')\n",
    "\n",
    "\n",
    "plt.show()"
   ]
  },
  {
   "cell_type": "markdown",
   "metadata": {},
   "source": [
    "Again since we assume these 16 sub-domains of the dataset are \"unbiased\" (as best as possible in this project), we can now look at causality. In particular, we want to know if the alignment succeeds aid, or the blue line lags the red line -- *in terms of both trajectory and shape*. We also don't want the lag to be 'too much' - probably a few years in lag would be ideal.\n",
    "\n",
    "We examine how many of the 14/16 plots exhibit causality (2 have no data). Good examples (we regard) of causality are 'low-middle income region' --> Sub-Saharan Africa & East Asia/Oceania as well as 'upper middle income region' --> Western Hemisphere. \n",
    "\n",
    "### Do Exhibit Causality \n",
    "\n",
    "#### High Income Region\n",
    "None\n",
    "\n",
    "#### Upper Middle Income Region \n",
    "Western hemisphere, middle east north africa, sub-saharan africa \n",
    "\n",
    "#### Lower Middle Income Region \n",
    "All \n",
    "\n",
    "#### Worst Income Region\n",
    "1/2\n",
    "\n",
    "**Net Plots Exhibiting Causality:** 10/12\n"
   ]
  },
  {
   "cell_type": "markdown",
   "metadata": {},
   "source": [
    "## Implications\n",
    "\n",
    "We have concluded that normalized against bias (as best we could), foreign aid can induce increased alignment. While on one hand, foreign aid is never a bad paradigm, the question is whether or not abuse of power can/does exist. Perhaps this is a cynical worldview, but the conclusion of our analysis is that it is statistically plausible that the United States can \"buy\" U.N. votes. The prospect that the United States could garner an even greater hegemony over an ideally democratic institution is concerning and alarming. \n",
    "\n",
    "## Future Work\n",
    "\n",
    "There is considerble future work that could be done regarding this research project. Some of these ideas include: \n",
    "* Using/incorporating more auxillary datasets through which more \"exact\" quantifications of bias can be removed. For example, what about data regarding US defense agreements (not necessarily foreign aid, but an \"equivalent\" scenarior)? \n",
    "* Determining/finding methods to quantify the lag behavior of alignment vs. aid. Some methods might include recursive neural networks (RNNs) for multivariate time-series modeling, other time-series models such as ARIMA, or using static-time algorithms such as ridge regression coupled with using covariates drawn from different times $t_{n}, t_{n+1}, t_{n+...}$\n",
    "* Redoing the project but including non-important votes. \n",
    "* Augmenting this project by statistically including U.N. resolution type as a variable (i.e. is the resolution related to war/peace? Israel-Palestine conflict? Human rights? How do these categories affect the alignment-aid relationship. \n",
    "\n",
    "## References \n",
    "\n",
    "- Inter-university Consortium for Political and Social Research. United Nations Roll Call Data, 1946-1985. Ann Arbor, MI: Inter-university Consortium for Political and Social Research [distributor], 1992-02-16. https://doi.org/10.3886/ICPSR05512.v1\n",
    "- Erik Voeten \"Data and Analyses of Voting in the UN General Assembly\" Routledge Handbook of International Organization, edited by Bob Reinalda (published May 27, 2013). Available at SSRN: http://ssrn.com/abstract=2111149 *Second citation made at the request indicated by author at the Codebook found at the above link*\n",
    "- University of Washington. Human-Centered Data Science. Autumn Quarter 2018. Jonathan T. Morgan, Os. Keyes. \n",
    "- Foreign Aid Explorer: The official record of U.S. foreign aid -Author: U.S. Agency for International Development (USAID). https://explorer.usaid.gov/data.html\n",
    "- https://www.cgdev.org/publication/linking-us-foreign-aid-un-votes-what-are-implications\n",
    "- https://www.cfr.org/backgrounder/how-does-us-spend-its-foreign-aid\n",
    "- https://www.heritage.org/global-politics/report/thirty-years-voting-the-un-general-assembly-the-us-nearly-always-the\n",
    "- https://foreignpolicy.com/2018/03/15/haley-vote-with-u-s-at-u-n-or-well-cut-your-aid/\n",
    "- https://scholar.harvard.edu/files/dtingley/files/enp.pdf\n",
    "- https://seaborn.pydata.org/generated/seaborn.FacetGrid.html\n",
    "\n"
   ]
  }
 ],
 "metadata": {
  "kernelspec": {
   "display_name": "Python 3",
   "language": "python",
   "name": "python3"
  },
  "language_info": {
   "codemirror_mode": {
    "name": "ipython",
    "version": 3
   },
   "file_extension": ".py",
   "mimetype": "text/x-python",
   "name": "python",
   "nbconvert_exporter": "python",
   "pygments_lexer": "ipython3",
   "version": "3.6.4"
  }
 },
 "nbformat": 4,
 "nbformat_minor": 2
}
